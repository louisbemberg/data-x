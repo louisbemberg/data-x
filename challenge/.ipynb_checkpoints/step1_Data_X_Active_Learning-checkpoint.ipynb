{
 "cells": [
  {
   "cell_type": "markdown",
   "metadata": {
    "id": "aXGpSdcePqF-"
   },
   "source": [
    "# Action 1\n",
    "Enter your initial within the quotes below\n",
    "Enter which dataset 1 or 2 you will read in, 1=\"Suicide_Detection_df1.csv\" or 2=\"Suicide_Detection_df2.csv\""
   ]
  },
  {
   "cell_type": "code",
   "execution_count": 193,
   "metadata": {
    "executionInfo": {
     "elapsed": 7,
     "status": "ok",
     "timestamp": 1646721854823,
     "user": {
      "displayName": "Derek S. Chan",
      "photoUrl": "https://lh3.googleusercontent.com/a-/AOh14GixJU90-CHllNlCrkziZDOzGG0iNCVBs0sP5BTWXA=s64",
      "userId": "06091445000047747167"
     },
     "user_tz": 480
    },
    "id": "P-j7zAL9PqF_"
   },
   "outputs": [],
   "source": [
    "initials = \"LB\"\n",
    "dataset  = \"1\""
   ]
  },
  {
   "cell_type": "code",
   "execution_count": 194,
   "metadata": {
    "executionInfo": {
     "elapsed": 432,
     "status": "ok",
     "timestamp": 1646721855250,
     "user": {
      "displayName": "Derek S. Chan",
      "photoUrl": "https://lh3.googleusercontent.com/a-/AOh14GixJU90-CHllNlCrkziZDOzGG0iNCVBs0sP5BTWXA=s64",
      "userId": "06091445000047747167"
     },
     "user_tz": 480
    },
    "id": "CiO_dMBiS_oI"
   },
   "outputs": [],
   "source": [
    "# import modules to use their functions\n",
    "import numpy as np\n",
    "import pandas as pd\n",
    "import random\n",
    "\n",
    "# set option below so Pandas dataframe can output readable text, not truncated\n",
    "pd.set_option('display.max_colwidth', 0)"
   ]
  },
  {
   "cell_type": "code",
   "execution_count": 195,
   "metadata": {
    "colab": {
     "base_uri": "https://localhost:8080/",
     "height": 399
    },
    "executionInfo": {
     "elapsed": 306,
     "status": "error",
     "timestamp": 1646721855551,
     "user": {
      "displayName": "Derek S. Chan",
      "photoUrl": "https://lh3.googleusercontent.com/a-/AOh14GixJU90-CHllNlCrkziZDOzGG0iNCVBs0sP5BTWXA=s64",
      "userId": "06091445000047747167"
     },
     "user_tz": 480
    },
    "id": "SVh2vyiJS_oM",
    "outputId": "43907649-f38e-4f30-95f2-4f47046aee54"
   },
   "outputs": [
    {
     "name": "stdout",
     "output_type": "stream",
     "text": [
      "(500, 3)\n"
     ]
    },
    {
     "data": {
      "text/html": [
       "<div>\n",
       "<style scoped>\n",
       "    .dataframe tbody tr th:only-of-type {\n",
       "        vertical-align: middle;\n",
       "    }\n",
       "\n",
       "    .dataframe tbody tr th {\n",
       "        vertical-align: top;\n",
       "    }\n",
       "\n",
       "    .dataframe thead th {\n",
       "        text-align: right;\n",
       "    }\n",
       "</style>\n",
       "<table border=\"1\" class=\"dataframe\">\n",
       "  <thead>\n",
       "    <tr style=\"text-align: right;\">\n",
       "      <th></th>\n",
       "      <th>Id</th>\n",
       "      <th>text</th>\n",
       "      <th>label</th>\n",
       "    </tr>\n",
       "  </thead>\n",
       "  <tbody>\n",
       "    <tr>\n",
       "      <th>219</th>\n",
       "      <td>662</td>\n",
       "      <td>I'm so tired and I feel like I don't even know myself.I'm so tired of the cycle of a coin flip to see if i'll be happy or miserable the next day. I self harmed today when I havent in weeks.\\n\\n I'm tired of feeling like a failure, burden, and a \"leech\" to my parents and friends. \\n\\nI'm tired of feeling like there's someone else controlling my emotions where they flip a switch from me feeling okay to miserable. I started therapy and It's only making me feel like more of a burden due to costs.\\n\\nI'm tired of my mind treating me as a bully, constant insults and telling me to kill myself.\\n\\nIm tired of having to write posts in r/suicidewatch.</td>\n",
       "      <td>NaN</td>\n",
       "    </tr>\n",
       "    <tr>\n",
       "      <th>79</th>\n",
       "      <td>713</td>\n",
       "      <td>Why does my mood gotta be changing all the time 🙄🙄🙄 😭\\n\\n😭😭\\n\\n😭😭😭\\n\\n😭😭😭😭\\n\\n😭😭😭😭😭\\n\\n😭😭😭😭😭😭\\n\\n😭😭😭😭😭😭😭\\n\\n😭😭😭😭😭😭😭😭\\n\\n😭😭😭😭😭😭😭😭😭\\n\\n😭😭😭😭😭😭😭😭😭😭\\n\\nLike 🙄 earlier i was in a good mood 😬 why do i gotta be sad now 😔✌</td>\n",
       "      <td>NaN</td>\n",
       "    </tr>\n",
       "    <tr>\n",
       "      <th>285</th>\n",
       "      <td>1132</td>\n",
       "      <td>1984 is when..... I get banned from Arby’s after I shoved my cock up the soda fountain while screaming racial slurs</td>\n",
       "      <td>NaN</td>\n",
       "    </tr>\n",
       "    <tr>\n",
       "      <th>98</th>\n",
       "      <td>1448</td>\n",
       "      <td>The only thing keeping me alive is the fact that Im scaredIm scared that it will hurt. Im scared of hanging myself because I know thats painful for at lest a little bit before youre gone. Im afraid of jumping in front of a train because what if I dont die right away and suffer until I die- and who knows how long that would take. Im afraid of jumping because im afraid of height in general and again, what if I dont die on impact. I cant shoot myself because I dont have a gun, but even then maybe Ill fuck it up and die from bleeding out or something instead dying the second the bullet hits me. I don't want to live, but I'm just too afraid to die</td>\n",
       "      <td>NaN</td>\n",
       "    </tr>\n",
       "    <tr>\n",
       "      <th>13</th>\n",
       "      <td>2078</td>\n",
       "      <td>Looks down &amp;amp;#x200B;\\n\\nhttps://preview.redd.it/g4chl7p2qem61.jpg?width=1245&amp;amp;format=pjpg&amp;amp;auto=webp&amp;amp;s=89af0ed1fa6e097e1e0f6c04462da3daeb3011a8</td>\n",
       "      <td>NaN</td>\n",
       "    </tr>\n",
       "  </tbody>\n",
       "</table>\n",
       "</div>"
      ],
      "text/plain": [
       "       Id  \\\n",
       "219  662    \n",
       "79   713    \n",
       "285  1132   \n",
       "98   1448   \n",
       "13   2078   \n",
       "\n",
       "                                                                                                                                                                                                                                                                                                                                                                                                                                                                                                                                                                                                                                                                           text  \\\n",
       "219  I'm so tired and I feel like I don't even know myself.I'm so tired of the cycle of a coin flip to see if i'll be happy or miserable the next day. I self harmed today when I havent in weeks.\\n\\n I'm tired of feeling like a failure, burden, and a \"leech\" to my parents and friends. \\n\\nI'm tired of feeling like there's someone else controlling my emotions where they flip a switch from me feeling okay to miserable. I started therapy and It's only making me feel like more of a burden due to costs.\\n\\nI'm tired of my mind treating me as a bully, constant insults and telling me to kill myself.\\n\\nIm tired of having to write posts in r/suicidewatch.    \n",
       "79   Why does my mood gotta be changing all the time 🙄🙄🙄 😭\\n\\n😭😭\\n\\n😭😭😭\\n\\n😭😭😭😭\\n\\n😭😭😭😭😭\\n\\n😭😭😭😭😭😭\\n\\n😭😭😭😭😭😭😭\\n\\n😭😭😭😭😭😭😭😭\\n\\n😭😭😭😭😭😭😭😭😭\\n\\n😭😭😭😭😭😭😭😭😭😭\\n\\nLike 🙄 earlier i was in a good mood 😬 why do i gotta be sad now 😔✌                                                                                                                                                                                                                                                                                                                                                                                                                                                        \n",
       "285  1984 is when..... I get banned from Arby’s after I shoved my cock up the soda fountain while screaming racial slurs                                                                                                                                                                                                                                                                                                                                                                                                                                                                                                                                                          \n",
       "98   The only thing keeping me alive is the fact that Im scaredIm scared that it will hurt. Im scared of hanging myself because I know thats painful for at lest a little bit before youre gone. Im afraid of jumping in front of a train because what if I dont die right away and suffer until I die- and who knows how long that would take. Im afraid of jumping because im afraid of height in general and again, what if I dont die on impact. I cant shoot myself because I dont have a gun, but even then maybe Ill fuck it up and die from bleeding out or something instead dying the second the bullet hits me. I don't want to live, but I'm just too afraid to die   \n",
       "13   Looks down &amp;#x200B;\\n\\nhttps://preview.redd.it/g4chl7p2qem61.jpg?width=1245&amp;format=pjpg&amp;auto=webp&amp;s=89af0ed1fa6e097e1e0f6c04462da3daeb3011a8                                                                                                                                                                                                                                                                                                                                                                                                                                                                                                                 \n",
       "\n",
       "     label  \n",
       "219 NaN     \n",
       "79  NaN     \n",
       "285 NaN     \n",
       "98  NaN     \n",
       "13  NaN     "
      ]
     },
     "execution_count": 195,
     "metadata": {},
     "output_type": "execute_result"
    }
   ],
   "source": [
    "# read in csv file into dataframe\n",
    "\n",
    "df = pd.read_csv(\"Suicide_Detection_df\" + dataset + \".csv\")\n",
    "df = df.sort_values(\"Id\")\n",
    "\n",
    "# check the number of rows and columns\n",
    "print(df.shape)\n",
    "\n",
    "# preview the dataframe, df1\n",
    "df.head()"
   ]
  },
  {
   "cell_type": "code",
   "execution_count": 196,
   "metadata": {
    "executionInfo": {
     "elapsed": 4,
     "status": "aborted",
     "timestamp": 1646721855551,
     "user": {
      "displayName": "Derek S. Chan",
      "photoUrl": "https://lh3.googleusercontent.com/a-/AOh14GixJU90-CHllNlCrkziZDOzGG0iNCVBs0sP5BTWXA=s64",
      "userId": "06091445000047747167"
     },
     "user_tz": 480
    },
    "id": "zI-_oX7FUlTp"
   },
   "outputs": [
    {
     "name": "stdout",
     "output_type": "stream",
     "text": [
      "Requirement already satisfied: superintendent in /opt/anaconda3/lib/python3.9/site-packages (0.5.3)\n",
      "Requirement already satisfied: scikit-learn>=0.20.3 in /opt/anaconda3/lib/python3.9/site-packages (from superintendent) (0.24.2)\n",
      "Requirement already satisfied: cachetools>=3.1 in /opt/anaconda3/lib/python3.9/site-packages (from superintendent) (5.0.0)\n",
      "Requirement already satisfied: numpy>=1.15 in /opt/anaconda3/lib/python3.9/site-packages (from superintendent) (1.20.3)\n",
      "Requirement already satisfied: sqlalchemy>=1.3 in /opt/anaconda3/lib/python3.9/site-packages (from superintendent) (1.4.22)\n",
      "Requirement already satisfied: schedule>=0.6.0 in /opt/anaconda3/lib/python3.9/site-packages (from superintendent) (1.1.0)\n",
      "Requirement already satisfied: psycopg2-binary>=2.8 in /opt/anaconda3/lib/python3.9/site-packages (from superintendent) (2.9.3)\n",
      "Requirement already satisfied: Pillow in /opt/anaconda3/lib/python3.9/site-packages (from superintendent) (8.4.0)\n",
      "Requirement already satisfied: scipy>=1.2 in /opt/anaconda3/lib/python3.9/site-packages (from superintendent) (1.7.1)\n",
      "Requirement already satisfied: ipywidgets>=7.4 in /opt/anaconda3/lib/python3.9/site-packages (from superintendent) (7.6.5)\n",
      "Requirement already satisfied: flask>=1.0 in /opt/anaconda3/lib/python3.9/site-packages (from superintendent) (1.1.2)\n",
      "Requirement already satisfied: typing-extensions in /opt/anaconda3/lib/python3.9/site-packages (from superintendent) (3.10.0.2)\n",
      "Requirement already satisfied: ipyevents>=0.6.0 in /opt/anaconda3/lib/python3.9/site-packages (from superintendent) (2.0.1)\n",
      "Requirement already satisfied: pandas>=0.24.0 in /opt/anaconda3/lib/python3.9/site-packages (from superintendent) (1.3.4)\n",
      "Requirement already satisfied: Werkzeug>=0.15 in /opt/anaconda3/lib/python3.9/site-packages (from flask>=1.0->superintendent) (2.0.2)\n",
      "Requirement already satisfied: click>=5.1 in /opt/anaconda3/lib/python3.9/site-packages (from flask>=1.0->superintendent) (8.0.3)\n",
      "Requirement already satisfied: itsdangerous>=0.24 in /opt/anaconda3/lib/python3.9/site-packages (from flask>=1.0->superintendent) (2.0.1)\n",
      "Requirement already satisfied: Jinja2>=2.10.1 in /opt/anaconda3/lib/python3.9/site-packages (from flask>=1.0->superintendent) (2.11.3)\n",
      "Requirement already satisfied: widgetsnbextension~=3.5.0 in /opt/anaconda3/lib/python3.9/site-packages (from ipywidgets>=7.4->superintendent) (3.5.1)\n",
      "Requirement already satisfied: ipykernel>=4.5.1 in /opt/anaconda3/lib/python3.9/site-packages (from ipywidgets>=7.4->superintendent) (6.4.1)\n",
      "Requirement already satisfied: traitlets>=4.3.1 in /opt/anaconda3/lib/python3.9/site-packages (from ipywidgets>=7.4->superintendent) (5.1.0)\n",
      "Requirement already satisfied: ipython>=4.0.0 in /opt/anaconda3/lib/python3.9/site-packages (from ipywidgets>=7.4->superintendent) (7.29.0)\n",
      "Requirement already satisfied: nbformat>=4.2.0 in /opt/anaconda3/lib/python3.9/site-packages (from ipywidgets>=7.4->superintendent) (5.1.3)\n",
      "Requirement already satisfied: ipython-genutils~=0.2.0 in /opt/anaconda3/lib/python3.9/site-packages (from ipywidgets>=7.4->superintendent) (0.2.0)\n",
      "Requirement already satisfied: jupyterlab-widgets>=1.0.0 in /opt/anaconda3/lib/python3.9/site-packages (from ipywidgets>=7.4->superintendent) (1.0.0)\n",
      "Requirement already satisfied: debugpy<2.0,>=1.0.0 in /opt/anaconda3/lib/python3.9/site-packages (from ipykernel>=4.5.1->ipywidgets>=7.4->superintendent) (1.4.1)\n",
      "Requirement already satisfied: appnope in /opt/anaconda3/lib/python3.9/site-packages (from ipykernel>=4.5.1->ipywidgets>=7.4->superintendent) (0.1.2)\n",
      "Requirement already satisfied: matplotlib-inline<0.2.0,>=0.1.0 in /opt/anaconda3/lib/python3.9/site-packages (from ipykernel>=4.5.1->ipywidgets>=7.4->superintendent) (0.1.2)\n",
      "Requirement already satisfied: jupyter-client<8.0 in /opt/anaconda3/lib/python3.9/site-packages (from ipykernel>=4.5.1->ipywidgets>=7.4->superintendent) (6.1.12)\n",
      "Requirement already satisfied: tornado<7.0,>=4.2 in /opt/anaconda3/lib/python3.9/site-packages (from ipykernel>=4.5.1->ipywidgets>=7.4->superintendent) (6.1)\n",
      "Requirement already satisfied: pickleshare in /opt/anaconda3/lib/python3.9/site-packages (from ipython>=4.0.0->ipywidgets>=7.4->superintendent) (0.7.5)\n",
      "Requirement already satisfied: pexpect>4.3 in /opt/anaconda3/lib/python3.9/site-packages (from ipython>=4.0.0->ipywidgets>=7.4->superintendent) (4.8.0)\n",
      "Requirement already satisfied: backcall in /opt/anaconda3/lib/python3.9/site-packages (from ipython>=4.0.0->ipywidgets>=7.4->superintendent) (0.2.0)\n",
      "Requirement already satisfied: decorator in /opt/anaconda3/lib/python3.9/site-packages (from ipython>=4.0.0->ipywidgets>=7.4->superintendent) (5.1.0)\n",
      "Requirement already satisfied: jedi>=0.16 in /opt/anaconda3/lib/python3.9/site-packages (from ipython>=4.0.0->ipywidgets>=7.4->superintendent) (0.18.0)\n",
      "Requirement already satisfied: setuptools>=18.5 in /opt/anaconda3/lib/python3.9/site-packages (from ipython>=4.0.0->ipywidgets>=7.4->superintendent) (58.0.4)\n",
      "Requirement already satisfied: pygments in /opt/anaconda3/lib/python3.9/site-packages (from ipython>=4.0.0->ipywidgets>=7.4->superintendent) (2.10.0)\n",
      "Requirement already satisfied: prompt-toolkit!=3.0.0,!=3.0.1,<3.1.0,>=2.0.0 in /opt/anaconda3/lib/python3.9/site-packages (from ipython>=4.0.0->ipywidgets>=7.4->superintendent) (3.0.20)\n",
      "Requirement already satisfied: parso<0.9.0,>=0.8.0 in /opt/anaconda3/lib/python3.9/site-packages (from jedi>=0.16->ipython>=4.0.0->ipywidgets>=7.4->superintendent) (0.8.2)\n",
      "Requirement already satisfied: MarkupSafe>=0.23 in /opt/anaconda3/lib/python3.9/site-packages (from Jinja2>=2.10.1->flask>=1.0->superintendent) (1.1.1)\n",
      "Requirement already satisfied: pyzmq>=13 in /opt/anaconda3/lib/python3.9/site-packages (from jupyter-client<8.0->ipykernel>=4.5.1->ipywidgets>=7.4->superintendent) (22.2.1)\n",
      "Requirement already satisfied: jupyter-core>=4.6.0 in /opt/anaconda3/lib/python3.9/site-packages (from jupyter-client<8.0->ipykernel>=4.5.1->ipywidgets>=7.4->superintendent) (4.8.1)\n",
      "Requirement already satisfied: python-dateutil>=2.1 in /opt/anaconda3/lib/python3.9/site-packages (from jupyter-client<8.0->ipykernel>=4.5.1->ipywidgets>=7.4->superintendent) (2.8.2)\n",
      "Requirement already satisfied: jsonschema!=2.5.0,>=2.4 in /opt/anaconda3/lib/python3.9/site-packages (from nbformat>=4.2.0->ipywidgets>=7.4->superintendent) (3.2.0)\n",
      "Requirement already satisfied: pyrsistent>=0.14.0 in /opt/anaconda3/lib/python3.9/site-packages (from jsonschema!=2.5.0,>=2.4->nbformat>=4.2.0->ipywidgets>=7.4->superintendent) (0.18.0)\n",
      "Requirement already satisfied: six>=1.11.0 in /opt/anaconda3/lib/python3.9/site-packages (from jsonschema!=2.5.0,>=2.4->nbformat>=4.2.0->ipywidgets>=7.4->superintendent) (1.16.0)\n",
      "Requirement already satisfied: attrs>=17.4.0 in /opt/anaconda3/lib/python3.9/site-packages (from jsonschema!=2.5.0,>=2.4->nbformat>=4.2.0->ipywidgets>=7.4->superintendent) (21.2.0)\n",
      "Requirement already satisfied: pytz>=2017.3 in /opt/anaconda3/lib/python3.9/site-packages (from pandas>=0.24.0->superintendent) (2021.3)\n",
      "Requirement already satisfied: ptyprocess>=0.5 in /opt/anaconda3/lib/python3.9/site-packages (from pexpect>4.3->ipython>=4.0.0->ipywidgets>=7.4->superintendent) (0.7.0)\n",
      "Requirement already satisfied: wcwidth in /opt/anaconda3/lib/python3.9/site-packages (from prompt-toolkit!=3.0.0,!=3.0.1,<3.1.0,>=2.0.0->ipython>=4.0.0->ipywidgets>=7.4->superintendent) (0.2.5)\n",
      "Requirement already satisfied: threadpoolctl>=2.0.0 in /opt/anaconda3/lib/python3.9/site-packages (from scikit-learn>=0.20.3->superintendent) (2.2.0)\n",
      "Requirement already satisfied: joblib>=0.11 in /opt/anaconda3/lib/python3.9/site-packages (from scikit-learn>=0.20.3->superintendent) (1.1.0)\n",
      "Requirement already satisfied: greenlet!=0.4.17 in /opt/anaconda3/lib/python3.9/site-packages (from sqlalchemy>=1.3->superintendent) (1.1.1)\n",
      "Requirement already satisfied: notebook>=4.4.1 in /opt/anaconda3/lib/python3.9/site-packages (from widgetsnbextension~=3.5.0->ipywidgets>=7.4->superintendent) (6.4.5)\n",
      "Requirement already satisfied: terminado>=0.8.3 in /opt/anaconda3/lib/python3.9/site-packages (from notebook>=4.4.1->widgetsnbextension~=3.5.0->ipywidgets>=7.4->superintendent) (0.9.4)\n",
      "Requirement already satisfied: prometheus-client in /opt/anaconda3/lib/python3.9/site-packages (from notebook>=4.4.1->widgetsnbextension~=3.5.0->ipywidgets>=7.4->superintendent) (0.11.0)\n",
      "Requirement already satisfied: argon2-cffi in /opt/anaconda3/lib/python3.9/site-packages (from notebook>=4.4.1->widgetsnbextension~=3.5.0->ipywidgets>=7.4->superintendent) (20.1.0)\n",
      "Requirement already satisfied: nbconvert in /opt/anaconda3/lib/python3.9/site-packages (from notebook>=4.4.1->widgetsnbextension~=3.5.0->ipywidgets>=7.4->superintendent) (6.1.0)\n",
      "Requirement already satisfied: Send2Trash>=1.5.0 in /opt/anaconda3/lib/python3.9/site-packages (from notebook>=4.4.1->widgetsnbextension~=3.5.0->ipywidgets>=7.4->superintendent) (1.8.0)\n",
      "Requirement already satisfied: cffi>=1.0.0 in /opt/anaconda3/lib/python3.9/site-packages (from argon2-cffi->notebook>=4.4.1->widgetsnbextension~=3.5.0->ipywidgets>=7.4->superintendent) (1.14.6)\n"
     ]
    },
    {
     "name": "stdout",
     "output_type": "stream",
     "text": [
      "Requirement already satisfied: pycparser in /opt/anaconda3/lib/python3.9/site-packages (from cffi>=1.0.0->argon2-cffi->notebook>=4.4.1->widgetsnbextension~=3.5.0->ipywidgets>=7.4->superintendent) (2.20)\n",
      "Requirement already satisfied: testpath in /opt/anaconda3/lib/python3.9/site-packages (from nbconvert->notebook>=4.4.1->widgetsnbextension~=3.5.0->ipywidgets>=7.4->superintendent) (0.5.0)\n",
      "Requirement already satisfied: defusedxml in /opt/anaconda3/lib/python3.9/site-packages (from nbconvert->notebook>=4.4.1->widgetsnbextension~=3.5.0->ipywidgets>=7.4->superintendent) (0.7.1)\n",
      "Requirement already satisfied: entrypoints>=0.2.2 in /opt/anaconda3/lib/python3.9/site-packages (from nbconvert->notebook>=4.4.1->widgetsnbextension~=3.5.0->ipywidgets>=7.4->superintendent) (0.3)\n",
      "Requirement already satisfied: bleach in /opt/anaconda3/lib/python3.9/site-packages (from nbconvert->notebook>=4.4.1->widgetsnbextension~=3.5.0->ipywidgets>=7.4->superintendent) (4.0.0)\n",
      "Requirement already satisfied: mistune<2,>=0.8.1 in /opt/anaconda3/lib/python3.9/site-packages (from nbconvert->notebook>=4.4.1->widgetsnbextension~=3.5.0->ipywidgets>=7.4->superintendent) (0.8.4)\n",
      "Requirement already satisfied: nbclient<0.6.0,>=0.5.0 in /opt/anaconda3/lib/python3.9/site-packages (from nbconvert->notebook>=4.4.1->widgetsnbextension~=3.5.0->ipywidgets>=7.4->superintendent) (0.5.3)\n",
      "Requirement already satisfied: jupyterlab-pygments in /opt/anaconda3/lib/python3.9/site-packages (from nbconvert->notebook>=4.4.1->widgetsnbextension~=3.5.0->ipywidgets>=7.4->superintendent) (0.1.2)\n",
      "Requirement already satisfied: pandocfilters>=1.4.1 in /opt/anaconda3/lib/python3.9/site-packages (from nbconvert->notebook>=4.4.1->widgetsnbextension~=3.5.0->ipywidgets>=7.4->superintendent) (1.4.3)\n",
      "Requirement already satisfied: async-generator in /opt/anaconda3/lib/python3.9/site-packages (from nbclient<0.6.0,>=0.5.0->nbconvert->notebook>=4.4.1->widgetsnbextension~=3.5.0->ipywidgets>=7.4->superintendent) (1.10)\n",
      "Requirement already satisfied: nest-asyncio in /opt/anaconda3/lib/python3.9/site-packages (from nbclient<0.6.0,>=0.5.0->nbconvert->notebook>=4.4.1->widgetsnbextension~=3.5.0->ipywidgets>=7.4->superintendent) (1.5.1)\n",
      "Requirement already satisfied: webencodings in /opt/anaconda3/lib/python3.9/site-packages (from bleach->nbconvert->notebook>=4.4.1->widgetsnbextension~=3.5.0->ipywidgets>=7.4->superintendent) (0.5.1)\n",
      "Requirement already satisfied: packaging in /opt/anaconda3/lib/python3.9/site-packages (from bleach->nbconvert->notebook>=4.4.1->widgetsnbextension~=3.5.0->ipywidgets>=7.4->superintendent) (21.0)\n",
      "Requirement already satisfied: pyparsing>=2.0.2 in /opt/anaconda3/lib/python3.9/site-packages (from packaging->bleach->nbconvert->notebook>=4.4.1->widgetsnbextension~=3.5.0->ipywidgets>=7.4->superintendent) (3.0.4)\n"
     ]
    }
   ],
   "source": [
    "!pip install superintendent"
   ]
  },
  {
   "cell_type": "code",
   "execution_count": 197,
   "metadata": {
    "executionInfo": {
     "elapsed": 187,
     "status": "aborted",
     "timestamp": 1646721855734,
     "user": {
      "displayName": "Derek S. Chan",
      "photoUrl": "https://lh3.googleusercontent.com/a-/AOh14GixJU90-CHllNlCrkziZDOzGG0iNCVBs0sP5BTWXA=s64",
      "userId": "06091445000047747167"
     },
     "user_tz": 480
    },
    "id": "-Ab9re4H8Gp0"
   },
   "outputs": [],
   "source": [
    "from superintendent.distributed import ClassLabeller\n",
    "\n",
    "widget = ClassLabeller(\n",
    "    features=df[df['label'].isnull()]['text'].tolist(),\n",
    "    options=[\n",
    "        \"suicide\",\n",
    "        \"non-suicide\",\n",
    "    ]\n",
    ")"
   ]
  },
  {
   "cell_type": "markdown",
   "metadata": {
    "id": "1-MPfnRSPqGA"
   },
   "source": [
    "# Action 2\n",
    "Read data points below, and select suicide (ideation) or non-suicide (ideation). That will label your data to train your baseline model later.\n",
    "\n",
    "Decisions\n",
    "* How many data points will you aim to label?\n",
    "* How many people will label a given data point? If multiple people label a given data point, you'll eventually compare your labels."
   ]
  },
  {
   "cell_type": "code",
   "execution_count": 198,
   "metadata": {
    "executionInfo": {
     "elapsed": 188,
     "status": "aborted",
     "timestamp": 1646721855735,
     "user": {
      "displayName": "Derek S. Chan",
      "photoUrl": "https://lh3.googleusercontent.com/a-/AOh14GixJU90-CHllNlCrkziZDOzGG0iNCVBs0sP5BTWXA=s64",
      "userId": "06091445000047747167"
     },
     "user_tz": 480
    },
    "id": "evHNYUchPqGB"
   },
   "outputs": [
    {
     "data": {
      "application/vnd.jupyter.widget-view+json": {
       "model_id": "08821a99beb648159f14777a3be78652",
       "version_major": 2,
       "version_minor": 0
      },
      "text/plain": [
       "ClassLabeller(children=(HBox(children=(FloatProgress(value=0.0, description='Progress:', max=1.0),)), Box(chil…"
      ]
     },
     "metadata": {},
     "output_type": "display_data"
    }
   ],
   "source": [
    "widget"
   ]
  },
  {
   "cell_type": "code",
   "execution_count": 199,
   "metadata": {
    "executionInfo": {
     "elapsed": 188,
     "status": "aborted",
     "timestamp": 1646721855735,
     "user": {
      "displayName": "Derek S. Chan",
      "photoUrl": "https://lh3.googleusercontent.com/a-/AOh14GixJU90-CHllNlCrkziZDOzGG0iNCVBs0sP5BTWXA=s64",
      "userId": "06091445000047747167"
     },
     "user_tz": 480
    },
    "id": "D0HynzVKPqGC"
   },
   "outputs": [
    {
     "data": {
      "text/plain": [
       "['non-suicide',\n",
       " 'suicide',\n",
       " 'suicide',\n",
       " 'non-suicide',\n",
       " 'non-suicide',\n",
       " 'non-suicide',\n",
       " 'non-suicide',\n",
       " None,\n",
       " None,\n",
       " None,\n",
       " None,\n",
       " None,\n",
       " None,\n",
       " None,\n",
       " None,\n",
       " None,\n",
       " None,\n",
       " None,\n",
       " None,\n",
       " None,\n",
       " None,\n",
       " None,\n",
       " None,\n",
       " None,\n",
       " None,\n",
       " None,\n",
       " None,\n",
       " None,\n",
       " None,\n",
       " None,\n",
       " None,\n",
       " None,\n",
       " None,\n",
       " None,\n",
       " None,\n",
       " None,\n",
       " None,\n",
       " None,\n",
       " None,\n",
       " None,\n",
       " None,\n",
       " None,\n",
       " None,\n",
       " None,\n",
       " None,\n",
       " None,\n",
       " None,\n",
       " None,\n",
       " None,\n",
       " None]"
      ]
     },
     "execution_count": 199,
     "metadata": {},
     "output_type": "execute_result"
    }
   ],
   "source": [
    "# has a list with the new labels\n",
    "widget.new_labels[:50]"
   ]
  },
  {
   "cell_type": "code",
   "execution_count": 200,
   "metadata": {
    "executionInfo": {
     "elapsed": 188,
     "status": "aborted",
     "timestamp": 1646721855735,
     "user": {
      "displayName": "Derek S. Chan",
      "photoUrl": "https://lh3.googleusercontent.com/a-/AOh14GixJU90-CHllNlCrkziZDOzGG0iNCVBs0sP5BTWXA=s64",
      "userId": "06091445000047747167"
     },
     "user_tz": 480
    },
    "id": "JDTxlowAPqGC"
   },
   "outputs": [
    {
     "data": {
      "text/html": [
       "<div>\n",
       "<style scoped>\n",
       "    .dataframe tbody tr th:only-of-type {\n",
       "        vertical-align: middle;\n",
       "    }\n",
       "\n",
       "    .dataframe tbody tr th {\n",
       "        vertical-align: top;\n",
       "    }\n",
       "\n",
       "    .dataframe thead th {\n",
       "        text-align: right;\n",
       "    }\n",
       "</style>\n",
       "<table border=\"1\" class=\"dataframe\">\n",
       "  <thead>\n",
       "    <tr style=\"text-align: right;\">\n",
       "      <th></th>\n",
       "      <th>Id</th>\n",
       "      <th>text</th>\n",
       "      <th>label</th>\n",
       "    </tr>\n",
       "  </thead>\n",
       "  <tbody>\n",
       "    <tr>\n",
       "      <th>219</th>\n",
       "      <td>662</td>\n",
       "      <td>I'm so tired and I feel like I don't even know myself.I'm so tired of the cycle of a coin flip to see if i'll be happy or miserable the next day. I self harmed today when I havent in weeks.\\n\\n I'm tired of feeling like a failure, burden, and a \"leech\" to my parents and friends. \\n\\nI'm tired of feeling like there's someone else controlling my emotions where they flip a switch from me feeling okay to miserable. I started therapy and It's only making me feel like more of a burden due to costs.\\n\\nI'm tired of my mind treating me as a bully, constant insults and telling me to kill myself.\\n\\nIm tired of having to write posts in r/suicidewatch.</td>\n",
       "      <td>non-suicide</td>\n",
       "    </tr>\n",
       "    <tr>\n",
       "      <th>79</th>\n",
       "      <td>713</td>\n",
       "      <td>Why does my mood gotta be changing all the time 🙄🙄🙄 😭\\n\\n😭😭\\n\\n😭😭😭\\n\\n😭😭😭😭\\n\\n😭😭😭😭😭\\n\\n😭😭😭😭😭😭\\n\\n😭😭😭😭😭😭😭\\n\\n😭😭😭😭😭😭😭😭\\n\\n😭😭😭😭😭😭😭😭😭\\n\\n😭😭😭😭😭😭😭😭😭😭\\n\\nLike 🙄 earlier i was in a good mood 😬 why do i gotta be sad now 😔✌</td>\n",
       "      <td>suicide</td>\n",
       "    </tr>\n",
       "    <tr>\n",
       "      <th>285</th>\n",
       "      <td>1132</td>\n",
       "      <td>1984 is when..... I get banned from Arby’s after I shoved my cock up the soda fountain while screaming racial slurs</td>\n",
       "      <td>suicide</td>\n",
       "    </tr>\n",
       "    <tr>\n",
       "      <th>98</th>\n",
       "      <td>1448</td>\n",
       "      <td>The only thing keeping me alive is the fact that Im scaredIm scared that it will hurt. Im scared of hanging myself because I know thats painful for at lest a little bit before youre gone. Im afraid of jumping in front of a train because what if I dont die right away and suffer until I die- and who knows how long that would take. Im afraid of jumping because im afraid of height in general and again, what if I dont die on impact. I cant shoot myself because I dont have a gun, but even then maybe Ill fuck it up and die from bleeding out or something instead dying the second the bullet hits me. I don't want to live, but I'm just too afraid to die</td>\n",
       "      <td>non-suicide</td>\n",
       "    </tr>\n",
       "    <tr>\n",
       "      <th>13</th>\n",
       "      <td>2078</td>\n",
       "      <td>Looks down &amp;amp;#x200B;\\n\\nhttps://preview.redd.it/g4chl7p2qem61.jpg?width=1245&amp;amp;format=pjpg&amp;amp;auto=webp&amp;amp;s=89af0ed1fa6e097e1e0f6c04462da3daeb3011a8</td>\n",
       "      <td>non-suicide</td>\n",
       "    </tr>\n",
       "    <tr>\n",
       "      <th>...</th>\n",
       "      <td>...</td>\n",
       "      <td>...</td>\n",
       "      <td>...</td>\n",
       "    </tr>\n",
       "    <tr>\n",
       "      <th>16</th>\n",
       "      <td>346357</td>\n",
       "      <td>Interesting math question I got today which seemed hard at first but when you try it’s kinda easy X/z=z \\n\\nX=?</td>\n",
       "      <td>None</td>\n",
       "    </tr>\n",
       "    <tr>\n",
       "      <th>177</th>\n",
       "      <td>346425</td>\n",
       "      <td>gamerdude9999 its time to choose should we continue to be rivals, or unite against the other gamerdudes</td>\n",
       "      <td>None</td>\n",
       "    </tr>\n",
       "    <tr>\n",
       "      <th>346</th>\n",
       "      <td>346611</td>\n",
       "      <td>I wanna sleep but the Adventure Time song is stuck in my head Makes me wanna cry and think about all my old friends</td>\n",
       "      <td>None</td>\n",
       "    </tr>\n",
       "    <tr>\n",
       "      <th>245</th>\n",
       "      <td>347631</td>\n",
       "      <td>COVID can help me dieIf I do it soon, less of a chance they'll want to save me or even be able to. Hospital ICU beds are filling up again because of another pandemic surge in my area; they are probably running out of ventilators soon. Maybe they would let me die this time. I've been brainstorming what to write in my note to the hospital staff in a sealed envelope that I'll have on me when I'm found. I'm in healthcare, too. Or was? Even in my death I'll be a waste of breath, effort and space. Just how I lived my life. Maybe if my letter is good enough, they won't hate me as much after. I'm not doing it tonight though, don't worry guys (if anybody even reads this)</td>\n",
       "      <td>None</td>\n",
       "    </tr>\n",
       "    <tr>\n",
       "      <th>179</th>\n",
       "      <td>347987</td>\n",
       "      <td>Goodnight bois I shall dream of anthro husky gf's warmth and love</td>\n",
       "      <td>None</td>\n",
       "    </tr>\n",
       "  </tbody>\n",
       "</table>\n",
       "<p>500 rows × 3 columns</p>\n",
       "</div>"
      ],
      "text/plain": [
       "         Id  \\\n",
       "219  662      \n",
       "79   713      \n",
       "285  1132     \n",
       "98   1448     \n",
       "13   2078     \n",
       "..    ...     \n",
       "16   346357   \n",
       "177  346425   \n",
       "346  346611   \n",
       "245  347631   \n",
       "179  347987   \n",
       "\n",
       "                                                                                                                                                                                                                                                                                                                                                                                                                                                                                                                                                                                                                                                                                               text  \\\n",
       "219  I'm so tired and I feel like I don't even know myself.I'm so tired of the cycle of a coin flip to see if i'll be happy or miserable the next day. I self harmed today when I havent in weeks.\\n\\n I'm tired of feeling like a failure, burden, and a \"leech\" to my parents and friends. \\n\\nI'm tired of feeling like there's someone else controlling my emotions where they flip a switch from me feeling okay to miserable. I started therapy and It's only making me feel like more of a burden due to costs.\\n\\nI'm tired of my mind treating me as a bully, constant insults and telling me to kill myself.\\n\\nIm tired of having to write posts in r/suicidewatch.                        \n",
       "79   Why does my mood gotta be changing all the time 🙄🙄🙄 😭\\n\\n😭😭\\n\\n😭😭😭\\n\\n😭😭😭😭\\n\\n😭😭😭😭😭\\n\\n😭😭😭😭😭😭\\n\\n😭😭😭😭😭😭😭\\n\\n😭😭😭😭😭😭😭😭\\n\\n😭😭😭😭😭😭😭😭😭\\n\\n😭😭😭😭😭😭😭😭😭😭\\n\\nLike 🙄 earlier i was in a good mood 😬 why do i gotta be sad now 😔✌                                                                                                                                                                                                                                                                                                                                                                                                                                                                            \n",
       "285  1984 is when..... I get banned from Arby’s after I shoved my cock up the soda fountain while screaming racial slurs                                                                                                                                                                                                                                                                                                                                                                                                                                                                                                                                                                              \n",
       "98   The only thing keeping me alive is the fact that Im scaredIm scared that it will hurt. Im scared of hanging myself because I know thats painful for at lest a little bit before youre gone. Im afraid of jumping in front of a train because what if I dont die right away and suffer until I die- and who knows how long that would take. Im afraid of jumping because im afraid of height in general and again, what if I dont die on impact. I cant shoot myself because I dont have a gun, but even then maybe Ill fuck it up and die from bleeding out or something instead dying the second the bullet hits me. I don't want to live, but I'm just too afraid to die                       \n",
       "13   Looks down &amp;#x200B;\\n\\nhttps://preview.redd.it/g4chl7p2qem61.jpg?width=1245&amp;format=pjpg&amp;auto=webp&amp;s=89af0ed1fa6e097e1e0f6c04462da3daeb3011a8                                                                                                                                                                                                                                                                                                                                                                                                                                                                                                                                     \n",
       "..                                                                                                                                                            ...                                                                                                                                                                                                                                                                                                                                                                                                                                                                                                                                     \n",
       "16   Interesting math question I got today which seemed hard at first but when you try it’s kinda easy X/z=z \\n\\nX=?                                                                                                                                                                                                                                                                                                                                                                                                                                                                                                                                                                                  \n",
       "177  gamerdude9999 its time to choose should we continue to be rivals, or unite against the other gamerdudes                                                                                                                                                                                                                                                                                                                                                                                                                                                                                                                                                                                          \n",
       "346  I wanna sleep but the Adventure Time song is stuck in my head Makes me wanna cry and think about all my old friends                                                                                                                                                                                                                                                                                                                                                                                                                                                                                                                                                                              \n",
       "245  COVID can help me dieIf I do it soon, less of a chance they'll want to save me or even be able to. Hospital ICU beds are filling up again because of another pandemic surge in my area; they are probably running out of ventilators soon. Maybe they would let me die this time. I've been brainstorming what to write in my note to the hospital staff in a sealed envelope that I'll have on me when I'm found. I'm in healthcare, too. Or was? Even in my death I'll be a waste of breath, effort and space. Just how I lived my life. Maybe if my letter is good enough, they won't hate me as much after. I'm not doing it tonight though, don't worry guys (if anybody even reads this)   \n",
       "179  Goodnight bois I shall dream of anthro husky gf's warmth and love                                                                                                                                                                                                                                                                                                                                                                                                                                                                                                                                                                                                                                \n",
       "\n",
       "           label  \n",
       "219  non-suicide  \n",
       "79   suicide      \n",
       "285  suicide      \n",
       "98   non-suicide  \n",
       "13   non-suicide  \n",
       "..           ...  \n",
       "16   None         \n",
       "177  None         \n",
       "346  None         \n",
       "245  None         \n",
       "179  None         \n",
       "\n",
       "[500 rows x 3 columns]"
      ]
     },
     "execution_count": 200,
     "metadata": {},
     "output_type": "execute_result"
    }
   ],
   "source": [
    "# add the labels to your dataframe\n",
    "df['label'] = widget.new_labels\n",
    "df"
   ]
  },
  {
   "cell_type": "code",
   "execution_count": 201,
   "metadata": {
    "executionInfo": {
     "elapsed": 188,
     "status": "aborted",
     "timestamp": 1646721855735,
     "user": {
      "displayName": "Derek S. Chan",
      "photoUrl": "https://lh3.googleusercontent.com/a-/AOh14GixJU90-CHllNlCrkziZDOzGG0iNCVBs0sP5BTWXA=s64",
      "userId": "06091445000047747167"
     },
     "user_tz": 480
    },
    "id": "5N1rhWkfPqGC"
   },
   "outputs": [],
   "source": [
    "# save your labeled data to a CSV file\n",
    "df.to_csv(\"step1_data_labeled_\" + initials + dataset + \".csv\", index=False, header=True)"
   ]
  },
  {
   "cell_type": "code",
   "execution_count": 202,
   "metadata": {
    "executionInfo": {
     "elapsed": 188,
     "status": "aborted",
     "timestamp": 1646721855735,
     "user": {
      "displayName": "Derek S. Chan",
      "photoUrl": "https://lh3.googleusercontent.com/a-/AOh14GixJU90-CHllNlCrkziZDOzGG0iNCVBs0sP5BTWXA=s64",
      "userId": "06091445000047747167"
     },
     "user_tz": 480
    },
    "id": "x33j07NGPqGC"
   },
   "outputs": [
    {
     "name": "stdout",
     "output_type": "stream",
     "text": [
      "Suicide_Detection_df1.csv\r\n",
      "Suicide_Detection_df2.csv\r\n",
      "Suicide_Detection_df3.csv\r\n",
      "step1_Data_X_Active_Learning.ipynb\r\n",
      "step1_data_labeled_DSC.csv\r\n",
      "step1_data_labeled_DSC1.csv\r\n",
      "step1_data_labeled_DSC2.csv\r\n",
      "step1_data_labeled_MF.csv\r\n",
      "step1_data_labeled_MF1.csv\r\n",
      "step1_data_labeled_MF2.csv\r\n",
      "step2_Data_X_Active_Learning.ipynb\r\n",
      "step2_data_unlabeled.csv\r\n",
      "step3_Data_X_Active_Learning (repeat step1).ipynb\r\n",
      "step4_Data_X_Active_Learning (repeat step2).ipynb\r\n",
      "test.csv\r\n"
     ]
    }
   ],
   "source": [
    "# confirm that file saved to your directory\n",
    "!ls"
   ]
  },
  {
   "cell_type": "markdown",
   "metadata": {
    "id": "XijLrDgw81ON"
   },
   "source": [
    "### If multiple people label a given data point, you'll eventually compare your labels in the next notebook."
   ]
  },
  {
   "cell_type": "code",
   "execution_count": null,
   "metadata": {
    "executionInfo": {
     "elapsed": 188,
     "status": "aborted",
     "timestamp": 1646721855736,
     "user": {
      "displayName": "Derek S. Chan",
      "photoUrl": "https://lh3.googleusercontent.com/a-/AOh14GixJU90-CHllNlCrkziZDOzGG0iNCVBs0sP5BTWXA=s64",
      "userId": "06091445000047747167"
     },
     "user_tz": 480
    },
    "id": "NHOG7RIQPqGD"
   },
   "outputs": [],
   "source": []
  }
 ],
 "metadata": {
  "colab": {
   "collapsed_sections": [],
   "name": "step1_Data_X_Active_Learning.ipynb",
   "provenance": []
  },
  "kernelspec": {
   "display_name": "Python 3 (ipykernel)",
   "language": "python",
   "name": "python3"
  },
  "language_info": {
   "codemirror_mode": {
    "name": "ipython",
    "version": 3
   },
   "file_extension": ".py",
   "mimetype": "text/x-python",
   "name": "python",
   "nbconvert_exporter": "python",
   "pygments_lexer": "ipython3",
   "version": "3.8.6"
  },
  "toc": {
   "base_numbering": 1,
   "nav_menu": {},
   "number_sections": true,
   "sideBar": true,
   "skip_h1_title": false,
   "title_cell": "Table of Contents",
   "title_sidebar": "Contents",
   "toc_cell": false,
   "toc_position": {},
   "toc_section_display": true,
   "toc_window_display": false
  }
 },
 "nbformat": 4,
 "nbformat_minor": 1
}
