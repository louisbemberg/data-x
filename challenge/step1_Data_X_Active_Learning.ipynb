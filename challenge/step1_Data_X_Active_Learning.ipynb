{
 "cells": [
  {
   "cell_type": "markdown",
   "metadata": {
    "id": "aXGpSdcePqF-"
   },
   "source": [
    "# Action 1\n",
    "Enter your initial within the quotes below\n",
    "Enter which dataset 1 or 2 you will read in, 1=\"Suicide_Detection_df1.csv\" or 2=\"Suicide_Detection_df2.csv\""
   ]
  },
  {
   "cell_type": "code",
   "execution_count": 1,
   "metadata": {
    "executionInfo": {
     "elapsed": 7,
     "status": "ok",
     "timestamp": 1646721854823,
     "user": {
      "displayName": "Derek S. Chan",
      "photoUrl": "https://lh3.googleusercontent.com/a-/AOh14GixJU90-CHllNlCrkziZDOzGG0iNCVBs0sP5BTWXA=s64",
      "userId": "06091445000047747167"
     },
     "user_tz": 480
    },
    "id": "P-j7zAL9PqF_"
   },
   "outputs": [],
   "source": [
    "initials = \"LB\"\n",
    "dataset  = \"2\""
   ]
  },
  {
   "cell_type": "code",
   "execution_count": 2,
   "metadata": {
    "executionInfo": {
     "elapsed": 432,
     "status": "ok",
     "timestamp": 1646721855250,
     "user": {
      "displayName": "Derek S. Chan",
      "photoUrl": "https://lh3.googleusercontent.com/a-/AOh14GixJU90-CHllNlCrkziZDOzGG0iNCVBs0sP5BTWXA=s64",
      "userId": "06091445000047747167"
     },
     "user_tz": 480
    },
    "id": "CiO_dMBiS_oI"
   },
   "outputs": [],
   "source": [
    "# import modules to use their functions\n",
    "import numpy as np\n",
    "import pandas as pd\n",
    "import random\n",
    "\n",
    "# set option below so Pandas dataframe can output readable text, not truncated\n",
    "pd.set_option('display.max_colwidth', 0)"
   ]
  },
  {
   "cell_type": "code",
   "execution_count": 3,
   "metadata": {
    "colab": {
     "base_uri": "https://localhost:8080/",
     "height": 399
    },
    "executionInfo": {
     "elapsed": 306,
     "status": "error",
     "timestamp": 1646721855551,
     "user": {
      "displayName": "Derek S. Chan",
      "photoUrl": "https://lh3.googleusercontent.com/a-/AOh14GixJU90-CHllNlCrkziZDOzGG0iNCVBs0sP5BTWXA=s64",
      "userId": "06091445000047747167"
     },
     "user_tz": 480
    },
    "id": "SVh2vyiJS_oM",
    "outputId": "43907649-f38e-4f30-95f2-4f47046aee54"
   },
   "outputs": [
    {
     "name": "stdout",
     "output_type": "stream",
     "text": [
      "(450, 3)\n"
     ]
    },
    {
     "data": {
      "text/html": [
       "<div>\n",
       "<style scoped>\n",
       "    .dataframe tbody tr th:only-of-type {\n",
       "        vertical-align: middle;\n",
       "    }\n",
       "\n",
       "    .dataframe tbody tr th {\n",
       "        vertical-align: top;\n",
       "    }\n",
       "\n",
       "    .dataframe thead th {\n",
       "        text-align: right;\n",
       "    }\n",
       "</style>\n",
       "<table border=\"1\" class=\"dataframe\">\n",
       "  <thead>\n",
       "    <tr style=\"text-align: right;\">\n",
       "      <th></th>\n",
       "      <th>Id</th>\n",
       "      <th>text</th>\n",
       "      <th>label</th>\n",
       "    </tr>\n",
       "  </thead>\n",
       "  <tbody>\n",
       "    <tr>\n",
       "      <th>259</th>\n",
       "      <td>373</td>\n",
       "      <td>Boys and girls there a reason we wear hoods even when it’s sprinkling Because a tree will drop a giant drop of water right on face and it will get you all wet.</td>\n",
       "      <td>NaN</td>\n",
       "    </tr>\n",
       "    <tr>\n",
       "      <th>59</th>\n",
       "      <td>1443</td>\n",
       "      <td>time flies guys I was at wrestling almost 24 hrs ago. I’m not sure what happened and how all that time passed so quickly. I’m headed there again soon. I have a match soon next week. I’m nervous but also pretty excited. We’ll see how this goes. Does time ever fly by for you guys?</td>\n",
       "      <td>NaN</td>\n",
       "    </tr>\n",
       "    <tr>\n",
       "      <th>369</th>\n",
       "      <td>2023</td>\n",
       "      <td>Did you know? Watermelons are slightly alcoholic.\\n\\nThe rind of the fruit creates a substance that mixes with the juice of the melons, equaling the alcoholic content of 2 beers, per 1 watermelon!</td>\n",
       "      <td>NaN</td>\n",
       "    </tr>\n",
       "    <tr>\n",
       "      <th>229</th>\n",
       "      <td>2763</td>\n",
       "      <td>What’s karma I mean I’m not new to this site but wtf is karma like am I building up to something or what, and I see people calling each other karma whores like why do people want it so bad? Is it so they can brag about it IS THAT IT, IS THAT ALL ITS FOR. pls what am I supposed to do with karma 🤔</td>\n",
       "      <td>NaN</td>\n",
       "    </tr>\n",
       "    <tr>\n",
       "      <th>398</th>\n",
       "      <td>2767</td>\n",
       "      <td>Good byeI always felt like those around me really take me for granted. I can’t do it anymore. I’m not perfect but I can at least say that I’ve tried. This world is not for me. I always wanted to leave a mark before I go. \\n\\nPlease if you have someone who’s not too far gone like I am, talk to them. Be there for them. Support them. They need you more than ever. Don’t let them slip. You will regret it when they’re gone. \\n\\nThe world would be a better place if there was more love.</td>\n",
       "      <td>NaN</td>\n",
       "    </tr>\n",
       "  </tbody>\n",
       "</table>\n",
       "</div>"
      ],
      "text/plain": [
       "       Id  \\\n",
       "259  373    \n",
       "59   1443   \n",
       "369  2023   \n",
       "229  2763   \n",
       "398  2767   \n",
       "\n",
       "                                                                                                                                                                                                                                                                                                                                                                                                                                                                                                     text  \\\n",
       "259  Boys and girls there a reason we wear hoods even when it’s sprinkling Because a tree will drop a giant drop of water right on face and it will get you all wet.                                                                                                                                                                                                                                                                                                                                        \n",
       "59   time flies guys I was at wrestling almost 24 hrs ago. I’m not sure what happened and how all that time passed so quickly. I’m headed there again soon. I have a match soon next week. I’m nervous but also pretty excited. We’ll see how this goes. Does time ever fly by for you guys?                                                                                                                                                                                                                \n",
       "369  Did you know? Watermelons are slightly alcoholic.\\n\\nThe rind of the fruit creates a substance that mixes with the juice of the melons, equaling the alcoholic content of 2 beers, per 1 watermelon!                                                                                                                                                                                                                                                                                                   \n",
       "229  What’s karma I mean I’m not new to this site but wtf is karma like am I building up to something or what, and I see people calling each other karma whores like why do people want it so bad? Is it so they can brag about it IS THAT IT, IS THAT ALL ITS FOR. pls what am I supposed to do with karma 🤔                                                                                                                                                                                               \n",
       "398  Good byeI always felt like those around me really take me for granted. I can’t do it anymore. I’m not perfect but I can at least say that I’ve tried. This world is not for me. I always wanted to leave a mark before I go. \\n\\nPlease if you have someone who’s not too far gone like I am, talk to them. Be there for them. Support them. They need you more than ever. Don’t let them slip. You will regret it when they’re gone. \\n\\nThe world would be a better place if there was more love.    \n",
       "\n",
       "     label  \n",
       "259 NaN     \n",
       "59  NaN     \n",
       "369 NaN     \n",
       "229 NaN     \n",
       "398 NaN     "
      ]
     },
     "execution_count": 3,
     "metadata": {},
     "output_type": "execute_result"
    }
   ],
   "source": [
    "# read in csv file into dataframe\n",
    "\n",
    "df = pd.read_csv(\"Suicide_Detection_df\" + dataset + \".csv\")\n",
    "df = df.sort_values(\"Id\")\n",
    "\n",
    "# check the number of rows and columns\n",
    "print(df.shape)\n",
    "\n",
    "# preview the dataframe, df1\n",
    "df.head()"
   ]
  },
  {
   "cell_type": "code",
   "execution_count": 4,
   "metadata": {
    "executionInfo": {
     "elapsed": 4,
     "status": "aborted",
     "timestamp": 1646721855551,
     "user": {
      "displayName": "Derek S. Chan",
      "photoUrl": "https://lh3.googleusercontent.com/a-/AOh14GixJU90-CHllNlCrkziZDOzGG0iNCVBs0sP5BTWXA=s64",
      "userId": "06091445000047747167"
     },
     "user_tz": 480
    },
    "id": "zI-_oX7FUlTp"
   },
   "outputs": [
    {
     "name": "stdout",
     "output_type": "stream",
     "text": [
      "Requirement already satisfied: superintendent in /Users/louisbemberg/.pyenv/versions/3.8.6/envs/lewagon/lib/python3.8/site-packages (0.5.3)\n",
      "Requirement already satisfied: psycopg2-binary>=2.8 in /Users/louisbemberg/.pyenv/versions/3.8.6/envs/lewagon/lib/python3.8/site-packages (from superintendent) (2.9.3)\n",
      "Requirement already satisfied: ipyevents>=0.6.0 in /Users/louisbemberg/.pyenv/versions/3.8.6/envs/lewagon/lib/python3.8/site-packages (from superintendent) (2.0.1)\n",
      "Requirement already satisfied: numpy>=1.15 in /Users/louisbemberg/.pyenv/versions/3.8.6/envs/lewagon/lib/python3.8/site-packages (from superintendent) (1.19.5)\n",
      "Requirement already satisfied: ipywidgets>=7.4 in /Users/louisbemberg/.pyenv/versions/3.8.6/envs/lewagon/lib/python3.8/site-packages (from superintendent) (7.6.5)\n",
      "Requirement already satisfied: scikit-learn>=0.20.3 in /Users/louisbemberg/.pyenv/versions/3.8.6/envs/lewagon/lib/python3.8/site-packages (from superintendent) (0.24.2)\n",
      "Requirement already satisfied: cachetools>=3.1 in /Users/louisbemberg/.pyenv/versions/3.8.6/envs/lewagon/lib/python3.8/site-packages (from superintendent) (4.2.2)\n",
      "Requirement already satisfied: schedule>=0.6.0 in /Users/louisbemberg/.pyenv/versions/3.8.6/envs/lewagon/lib/python3.8/site-packages (from superintendent) (1.1.0)\n",
      "Requirement already satisfied: flask>=1.0 in /Users/louisbemberg/.pyenv/versions/3.8.6/envs/lewagon/lib/python3.8/site-packages (from superintendent) (2.0.1)\n",
      "Requirement already satisfied: Pillow in /Users/louisbemberg/.pyenv/versions/3.8.6/envs/lewagon/lib/python3.8/site-packages (from superintendent) (8.3.1)\n",
      "Requirement already satisfied: sqlalchemy>=1.3 in /Users/louisbemberg/.pyenv/versions/3.8.6/envs/lewagon/lib/python3.8/site-packages (from superintendent) (1.4.32)\n",
      "Requirement already satisfied: pandas>=0.24.0 in /Users/louisbemberg/.pyenv/versions/3.8.6/envs/lewagon/lib/python3.8/site-packages (from superintendent) (1.3.2)\n",
      "Requirement already satisfied: typing-extensions in /Users/louisbemberg/.pyenv/versions/3.8.6/envs/lewagon/lib/python3.8/site-packages (from superintendent) (3.7.4.3)\n",
      "Requirement already satisfied: scipy>=1.2 in /Users/louisbemberg/.pyenv/versions/3.8.6/envs/lewagon/lib/python3.8/site-packages (from superintendent) (1.7.1)\n",
      "Requirement already satisfied: Werkzeug>=2.0 in /Users/louisbemberg/.pyenv/versions/3.8.6/envs/lewagon/lib/python3.8/site-packages (from flask>=1.0->superintendent) (2.0.1)\n",
      "Requirement already satisfied: Jinja2>=3.0 in /Users/louisbemberg/.pyenv/versions/3.8.6/envs/lewagon/lib/python3.8/site-packages (from flask>=1.0->superintendent) (3.0.1)\n",
      "Requirement already satisfied: click>=7.1.2 in /Users/louisbemberg/.pyenv/versions/3.8.6/envs/lewagon/lib/python3.8/site-packages (from flask>=1.0->superintendent) (8.0.1)\n",
      "Requirement already satisfied: itsdangerous>=2.0 in /Users/louisbemberg/.pyenv/versions/3.8.6/envs/lewagon/lib/python3.8/site-packages (from flask>=1.0->superintendent) (2.0.1)\n",
      "Requirement already satisfied: widgetsnbextension~=3.5.0 in /Users/louisbemberg/.pyenv/versions/3.8.6/envs/lewagon/lib/python3.8/site-packages (from ipywidgets>=7.4->superintendent) (3.5.2)\n",
      "Requirement already satisfied: jupyterlab-widgets>=1.0.0 in /Users/louisbemberg/.pyenv/versions/3.8.6/envs/lewagon/lib/python3.8/site-packages (from ipywidgets>=7.4->superintendent) (1.0.2)\n",
      "Requirement already satisfied: traitlets>=4.3.1 in /Users/louisbemberg/.pyenv/versions/3.8.6/envs/lewagon/lib/python3.8/site-packages (from ipywidgets>=7.4->superintendent) (5.0.5)\n",
      "Requirement already satisfied: ipython-genutils~=0.2.0 in /Users/louisbemberg/.pyenv/versions/3.8.6/envs/lewagon/lib/python3.8/site-packages (from ipywidgets>=7.4->superintendent) (0.2.0)\n",
      "Requirement already satisfied: ipython>=4.0.0 in /Users/louisbemberg/.pyenv/versions/3.8.6/envs/lewagon/lib/python3.8/site-packages (from ipywidgets>=7.4->superintendent) (7.27.0)\n",
      "Requirement already satisfied: nbformat>=4.2.0 in /Users/louisbemberg/.pyenv/versions/3.8.6/envs/lewagon/lib/python3.8/site-packages (from ipywidgets>=7.4->superintendent) (5.1.3)\n",
      "Requirement already satisfied: ipykernel>=4.5.1 in /Users/louisbemberg/.pyenv/versions/3.8.6/envs/lewagon/lib/python3.8/site-packages (from ipywidgets>=7.4->superintendent) (6.2.0)\n",
      "Requirement already satisfied: jupyter-client<8.0 in /Users/louisbemberg/.pyenv/versions/3.8.6/envs/lewagon/lib/python3.8/site-packages (from ipykernel>=4.5.1->ipywidgets>=7.4->superintendent) (7.0.1)\n",
      "Requirement already satisfied: appnope in /Users/louisbemberg/.pyenv/versions/3.8.6/envs/lewagon/lib/python3.8/site-packages (from ipykernel>=4.5.1->ipywidgets>=7.4->superintendent) (0.1.2)\n",
      "Requirement already satisfied: tornado<7.0,>=4.2 in /Users/louisbemberg/.pyenv/versions/3.8.6/envs/lewagon/lib/python3.8/site-packages (from ipykernel>=4.5.1->ipywidgets>=7.4->superintendent) (6.1)\n",
      "Requirement already satisfied: matplotlib-inline<0.2.0,>=0.1.0 in /Users/louisbemberg/.pyenv/versions/3.8.6/envs/lewagon/lib/python3.8/site-packages (from ipykernel>=4.5.1->ipywidgets>=7.4->superintendent) (0.1.2)\n",
      "Requirement already satisfied: debugpy<2.0,>=1.0.0 in /Users/louisbemberg/.pyenv/versions/3.8.6/envs/lewagon/lib/python3.8/site-packages (from ipykernel>=4.5.1->ipywidgets>=7.4->superintendent) (1.4.1)\n",
      "Requirement already satisfied: setuptools>=18.5 in /Users/louisbemberg/.pyenv/versions/3.8.6/envs/lewagon/lib/python3.8/site-packages (from ipython>=4.0.0->ipywidgets>=7.4->superintendent) (49.2.1)\n",
      "Requirement already satisfied: backcall in /Users/louisbemberg/.pyenv/versions/3.8.6/envs/lewagon/lib/python3.8/site-packages (from ipython>=4.0.0->ipywidgets>=7.4->superintendent) (0.2.0)\n",
      "Requirement already satisfied: decorator in /Users/louisbemberg/.pyenv/versions/3.8.6/envs/lewagon/lib/python3.8/site-packages (from ipython>=4.0.0->ipywidgets>=7.4->superintendent) (5.0.9)\n",
      "Requirement already satisfied: pickleshare in /Users/louisbemberg/.pyenv/versions/3.8.6/envs/lewagon/lib/python3.8/site-packages (from ipython>=4.0.0->ipywidgets>=7.4->superintendent) (0.7.5)\n",
      "Requirement already satisfied: pygments in /Users/louisbemberg/.pyenv/versions/3.8.6/envs/lewagon/lib/python3.8/site-packages (from ipython>=4.0.0->ipywidgets>=7.4->superintendent) (2.10.0)\n",
      "Requirement already satisfied: prompt-toolkit!=3.0.0,!=3.0.1,<3.1.0,>=2.0.0 in /Users/louisbemberg/.pyenv/versions/3.8.6/envs/lewagon/lib/python3.8/site-packages (from ipython>=4.0.0->ipywidgets>=7.4->superintendent) (3.0.20)\n",
      "Requirement already satisfied: jedi>=0.16 in /Users/louisbemberg/.pyenv/versions/3.8.6/envs/lewagon/lib/python3.8/site-packages (from ipython>=4.0.0->ipywidgets>=7.4->superintendent) (0.18.0)\n",
      "Requirement already satisfied: pexpect>4.3 in /Users/louisbemberg/.pyenv/versions/3.8.6/envs/lewagon/lib/python3.8/site-packages (from ipython>=4.0.0->ipywidgets>=7.4->superintendent) (4.8.0)\n",
      "Requirement already satisfied: parso<0.9.0,>=0.8.0 in /Users/louisbemberg/.pyenv/versions/3.8.6/envs/lewagon/lib/python3.8/site-packages (from jedi>=0.16->ipython>=4.0.0->ipywidgets>=7.4->superintendent) (0.8.2)\n",
      "Requirement already satisfied: MarkupSafe>=2.0 in /Users/louisbemberg/.pyenv/versions/3.8.6/envs/lewagon/lib/python3.8/site-packages (from Jinja2>=3.0->flask>=1.0->superintendent) (2.0.1)\n",
      "Requirement already satisfied: python-dateutil>=2.1 in /Users/louisbemberg/.pyenv/versions/3.8.6/envs/lewagon/lib/python3.8/site-packages (from jupyter-client<8.0->ipykernel>=4.5.1->ipywidgets>=7.4->superintendent) (2.8.2)\n",
      "Requirement already satisfied: jupyter-core>=4.6.0 in /Users/louisbemberg/.pyenv/versions/3.8.6/envs/lewagon/lib/python3.8/site-packages (from jupyter-client<8.0->ipykernel>=4.5.1->ipywidgets>=7.4->superintendent) (4.7.1)\n",
      "Requirement already satisfied: nest-asyncio>=1.5 in /Users/louisbemberg/.pyenv/versions/3.8.6/envs/lewagon/lib/python3.8/site-packages (from jupyter-client<8.0->ipykernel>=4.5.1->ipywidgets>=7.4->superintendent) (1.5.1)\n",
      "Requirement already satisfied: entrypoints in /Users/louisbemberg/.pyenv/versions/3.8.6/envs/lewagon/lib/python3.8/site-packages (from jupyter-client<8.0->ipykernel>=4.5.1->ipywidgets>=7.4->superintendent) (0.3)\n",
      "Requirement already satisfied: pyzmq>=13 in /Users/louisbemberg/.pyenv/versions/3.8.6/envs/lewagon/lib/python3.8/site-packages (from jupyter-client<8.0->ipykernel>=4.5.1->ipywidgets>=7.4->superintendent) (22.2.1)\n",
      "Requirement already satisfied: jsonschema!=2.5.0,>=2.4 in /Users/louisbemberg/.pyenv/versions/3.8.6/envs/lewagon/lib/python3.8/site-packages (from nbformat>=4.2.0->ipywidgets>=7.4->superintendent) (3.2.0)\n"
     ]
    },
    {
     "name": "stdout",
     "output_type": "stream",
     "text": [
      "Requirement already satisfied: pyrsistent>=0.14.0 in /Users/louisbemberg/.pyenv/versions/3.8.6/envs/lewagon/lib/python3.8/site-packages (from jsonschema!=2.5.0,>=2.4->nbformat>=4.2.0->ipywidgets>=7.4->superintendent) (0.18.0)\n",
      "Requirement already satisfied: attrs>=17.4.0 in /Users/louisbemberg/.pyenv/versions/3.8.6/envs/lewagon/lib/python3.8/site-packages (from jsonschema!=2.5.0,>=2.4->nbformat>=4.2.0->ipywidgets>=7.4->superintendent) (21.2.0)\n",
      "Requirement already satisfied: six>=1.11.0 in /Users/louisbemberg/.pyenv/versions/3.8.6/envs/lewagon/lib/python3.8/site-packages (from jsonschema!=2.5.0,>=2.4->nbformat>=4.2.0->ipywidgets>=7.4->superintendent) (1.15.0)\n",
      "Requirement already satisfied: pytz>=2017.3 in /Users/louisbemberg/.pyenv/versions/3.8.6/envs/lewagon/lib/python3.8/site-packages (from pandas>=0.24.0->superintendent) (2021.1)\n",
      "Requirement already satisfied: ptyprocess>=0.5 in /Users/louisbemberg/.pyenv/versions/3.8.6/envs/lewagon/lib/python3.8/site-packages (from pexpect>4.3->ipython>=4.0.0->ipywidgets>=7.4->superintendent) (0.7.0)\n",
      "Requirement already satisfied: wcwidth in /Users/louisbemberg/.pyenv/versions/3.8.6/envs/lewagon/lib/python3.8/site-packages (from prompt-toolkit!=3.0.0,!=3.0.1,<3.1.0,>=2.0.0->ipython>=4.0.0->ipywidgets>=7.4->superintendent) (0.2.5)\n",
      "Requirement already satisfied: joblib>=0.11 in /Users/louisbemberg/.pyenv/versions/3.8.6/envs/lewagon/lib/python3.8/site-packages (from scikit-learn>=0.20.3->superintendent) (1.0.1)\n",
      "Requirement already satisfied: threadpoolctl>=2.0.0 in /Users/louisbemberg/.pyenv/versions/3.8.6/envs/lewagon/lib/python3.8/site-packages (from scikit-learn>=0.20.3->superintendent) (2.2.0)\n",
      "Requirement already satisfied: greenlet!=0.4.17 in /Users/louisbemberg/.pyenv/versions/3.8.6/envs/lewagon/lib/python3.8/site-packages (from sqlalchemy>=1.3->superintendent) (1.1.2)\n",
      "Requirement already satisfied: notebook>=4.4.1 in /Users/louisbemberg/.pyenv/versions/3.8.6/envs/lewagon/lib/python3.8/site-packages (from widgetsnbextension~=3.5.0->ipywidgets>=7.4->superintendent) (6.4.3)\n",
      "Requirement already satisfied: prometheus-client in /Users/louisbemberg/.pyenv/versions/3.8.6/envs/lewagon/lib/python3.8/site-packages (from notebook>=4.4.1->widgetsnbextension~=3.5.0->ipywidgets>=7.4->superintendent) (0.11.0)\n",
      "Requirement already satisfied: argon2-cffi in /Users/louisbemberg/.pyenv/versions/3.8.6/envs/lewagon/lib/python3.8/site-packages (from notebook>=4.4.1->widgetsnbextension~=3.5.0->ipywidgets>=7.4->superintendent) (20.1.0)\n",
      "Requirement already satisfied: Send2Trash>=1.5.0 in /Users/louisbemberg/.pyenv/versions/3.8.6/envs/lewagon/lib/python3.8/site-packages (from notebook>=4.4.1->widgetsnbextension~=3.5.0->ipywidgets>=7.4->superintendent) (1.8.0)\n",
      "Requirement already satisfied: terminado>=0.8.3 in /Users/louisbemberg/.pyenv/versions/3.8.6/envs/lewagon/lib/python3.8/site-packages (from notebook>=4.4.1->widgetsnbextension~=3.5.0->ipywidgets>=7.4->superintendent) (0.11.1)\n",
      "Requirement already satisfied: nbconvert in /Users/louisbemberg/.pyenv/versions/3.8.6/envs/lewagon/lib/python3.8/site-packages (from notebook>=4.4.1->widgetsnbextension~=3.5.0->ipywidgets>=7.4->superintendent) (6.1.0)\n",
      "Requirement already satisfied: cffi>=1.0.0 in /Users/louisbemberg/.pyenv/versions/3.8.6/envs/lewagon/lib/python3.8/site-packages (from argon2-cffi->notebook>=4.4.1->widgetsnbextension~=3.5.0->ipywidgets>=7.4->superintendent) (1.14.6)\n",
      "Requirement already satisfied: pycparser in /Users/louisbemberg/.pyenv/versions/3.8.6/envs/lewagon/lib/python3.8/site-packages (from cffi>=1.0.0->argon2-cffi->notebook>=4.4.1->widgetsnbextension~=3.5.0->ipywidgets>=7.4->superintendent) (2.20)\n",
      "Requirement already satisfied: mistune<2,>=0.8.1 in /Users/louisbemberg/.pyenv/versions/3.8.6/envs/lewagon/lib/python3.8/site-packages (from nbconvert->notebook>=4.4.1->widgetsnbextension~=3.5.0->ipywidgets>=7.4->superintendent) (0.8.4)\n",
      "Requirement already satisfied: pandocfilters>=1.4.1 in /Users/louisbemberg/.pyenv/versions/3.8.6/envs/lewagon/lib/python3.8/site-packages (from nbconvert->notebook>=4.4.1->widgetsnbextension~=3.5.0->ipywidgets>=7.4->superintendent) (1.4.3)\n",
      "Requirement already satisfied: testpath in /Users/louisbemberg/.pyenv/versions/3.8.6/envs/lewagon/lib/python3.8/site-packages (from nbconvert->notebook>=4.4.1->widgetsnbextension~=3.5.0->ipywidgets>=7.4->superintendent) (0.5.0)\n",
      "Requirement already satisfied: defusedxml in /Users/louisbemberg/.pyenv/versions/3.8.6/envs/lewagon/lib/python3.8/site-packages (from nbconvert->notebook>=4.4.1->widgetsnbextension~=3.5.0->ipywidgets>=7.4->superintendent) (0.7.1)\n",
      "Requirement already satisfied: nbclient<0.6.0,>=0.5.0 in /Users/louisbemberg/.pyenv/versions/3.8.6/envs/lewagon/lib/python3.8/site-packages (from nbconvert->notebook>=4.4.1->widgetsnbextension~=3.5.0->ipywidgets>=7.4->superintendent) (0.5.4)\n",
      "Requirement already satisfied: jupyterlab-pygments in /Users/louisbemberg/.pyenv/versions/3.8.6/envs/lewagon/lib/python3.8/site-packages (from nbconvert->notebook>=4.4.1->widgetsnbextension~=3.5.0->ipywidgets>=7.4->superintendent) (0.1.2)\n",
      "Requirement already satisfied: bleach in /Users/louisbemberg/.pyenv/versions/3.8.6/envs/lewagon/lib/python3.8/site-packages (from nbconvert->notebook>=4.4.1->widgetsnbextension~=3.5.0->ipywidgets>=7.4->superintendent) (4.1.0)\n",
      "Requirement already satisfied: webencodings in /Users/louisbemberg/.pyenv/versions/3.8.6/envs/lewagon/lib/python3.8/site-packages (from bleach->nbconvert->notebook>=4.4.1->widgetsnbextension~=3.5.0->ipywidgets>=7.4->superintendent) (0.5.1)\n",
      "Requirement already satisfied: packaging in /Users/louisbemberg/.pyenv/versions/3.8.6/envs/lewagon/lib/python3.8/site-packages (from bleach->nbconvert->notebook>=4.4.1->widgetsnbextension~=3.5.0->ipywidgets>=7.4->superintendent) (21.0)\n",
      "Requirement already satisfied: pyparsing>=2.0.2 in /Users/louisbemberg/.pyenv/versions/3.8.6/envs/lewagon/lib/python3.8/site-packages (from packaging->bleach->nbconvert->notebook>=4.4.1->widgetsnbextension~=3.5.0->ipywidgets>=7.4->superintendent) (2.4.7)\n",
      "\u001b[33mWARNING: You are using pip version 21.2.4; however, version 22.0.4 is available.\n",
      "You should consider upgrading via the '/Users/louisbemberg/.pyenv/versions/3.8.6/envs/lewagon/bin/python3.8 -m pip install --upgrade pip' command.\u001b[0m\n"
     ]
    }
   ],
   "source": [
    "!pip install superintendent"
   ]
  },
  {
   "cell_type": "code",
   "execution_count": 5,
   "metadata": {
    "executionInfo": {
     "elapsed": 187,
     "status": "aborted",
     "timestamp": 1646721855734,
     "user": {
      "displayName": "Derek S. Chan",
      "photoUrl": "https://lh3.googleusercontent.com/a-/AOh14GixJU90-CHllNlCrkziZDOzGG0iNCVBs0sP5BTWXA=s64",
      "userId": "06091445000047747167"
     },
     "user_tz": 480
    },
    "id": "-Ab9re4H8Gp0"
   },
   "outputs": [
    {
     "data": {
      "application/vnd.jupyter.widget-view+json": {
       "model_id": "171049c45d99463ea5d7ea93d57f0026",
       "version_major": 2,
       "version_minor": 0
      },
      "text/plain": [
       "Box(layout=Layout(height='2.5%'))"
      ]
     },
     "metadata": {},
     "output_type": "display_data"
    },
    {
     "data": {
      "text/plain": [
       "'Boys and girls there a reason we wear hoods even when it’s sprinkling Because a tree will drop a giant drop of water right on face and it will get you all wet.'"
      ]
     },
     "metadata": {},
     "output_type": "display_data"
    },
    {
     "data": {
      "application/vnd.jupyter.widget-view+json": {
       "model_id": "2d732859ad1c4acfa21fa25634554c0e",
       "version_major": 2,
       "version_minor": 0
      },
      "text/plain": [
       "Box(layout=Layout(height='2.5%'))"
      ]
     },
     "metadata": {},
     "output_type": "display_data"
    }
   ],
   "source": [
    "from superintendent.distributed import ClassLabeller\n",
    "\n",
    "widget = ClassLabeller(\n",
    "    features=df[df['label'].isnull()]['text'].tolist(),\n",
    "    options=[\n",
    "        \"suicide\",\n",
    "        \"non-suicide\",\n",
    "    ]\n",
    ")"
   ]
  },
  {
   "cell_type": "markdown",
   "metadata": {
    "id": "1-MPfnRSPqGA"
   },
   "source": [
    "# Action 2\n",
    "Read data points below, and select suicide (ideation) or non-suicide (ideation). That will label your data to train your baseline model later.\n",
    "\n",
    "Decisions\n",
    "* How many data points will you aim to label?\n",
    "* How many people will label a given data point? If multiple people label a given data point, you'll eventually compare your labels."
   ]
  },
  {
   "cell_type": "code",
   "execution_count": 6,
   "metadata": {
    "executionInfo": {
     "elapsed": 188,
     "status": "aborted",
     "timestamp": 1646721855735,
     "user": {
      "displayName": "Derek S. Chan",
      "photoUrl": "https://lh3.googleusercontent.com/a-/AOh14GixJU90-CHllNlCrkziZDOzGG0iNCVBs0sP5BTWXA=s64",
      "userId": "06091445000047747167"
     },
     "user_tz": 480
    },
    "id": "evHNYUchPqGB"
   },
   "outputs": [
    {
     "data": {
      "application/vnd.jupyter.widget-view+json": {
       "model_id": "3b81aa8cf13b464db0b03f05cd8a7db5",
       "version_major": 2,
       "version_minor": 0
      },
      "text/plain": [
       "ClassLabeller(children=(HBox(children=(FloatProgress(value=0.0, description='Progress:', max=1.0),)), Box(chil…"
      ]
     },
     "metadata": {},
     "output_type": "display_data"
    }
   ],
   "source": [
    "widget"
   ]
  },
  {
   "cell_type": "code",
   "execution_count": 7,
   "metadata": {
    "executionInfo": {
     "elapsed": 188,
     "status": "aborted",
     "timestamp": 1646721855735,
     "user": {
      "displayName": "Derek S. Chan",
      "photoUrl": "https://lh3.googleusercontent.com/a-/AOh14GixJU90-CHllNlCrkziZDOzGG0iNCVBs0sP5BTWXA=s64",
      "userId": "06091445000047747167"
     },
     "user_tz": 480
    },
    "id": "D0HynzVKPqGC"
   },
   "outputs": [],
   "source": [
    "# has a list with the new labels\n",
    "# widget.new_labels[:50]"
   ]
  },
  {
   "cell_type": "code",
   "execution_count": 8,
   "metadata": {
    "executionInfo": {
     "elapsed": 188,
     "status": "aborted",
     "timestamp": 1646721855735,
     "user": {
      "displayName": "Derek S. Chan",
      "photoUrl": "https://lh3.googleusercontent.com/a-/AOh14GixJU90-CHllNlCrkziZDOzGG0iNCVBs0sP5BTWXA=s64",
      "userId": "06091445000047747167"
     },
     "user_tz": 480
    },
    "id": "JDTxlowAPqGC"
   },
   "outputs": [
    {
     "data": {
      "text/html": [
       "<div>\n",
       "<style scoped>\n",
       "    .dataframe tbody tr th:only-of-type {\n",
       "        vertical-align: middle;\n",
       "    }\n",
       "\n",
       "    .dataframe tbody tr th {\n",
       "        vertical-align: top;\n",
       "    }\n",
       "\n",
       "    .dataframe thead th {\n",
       "        text-align: right;\n",
       "    }\n",
       "</style>\n",
       "<table border=\"1\" class=\"dataframe\">\n",
       "  <thead>\n",
       "    <tr style=\"text-align: right;\">\n",
       "      <th></th>\n",
       "      <th>Id</th>\n",
       "      <th>text</th>\n",
       "      <th>label</th>\n",
       "    </tr>\n",
       "  </thead>\n",
       "  <tbody>\n",
       "    <tr>\n",
       "      <th>259</th>\n",
       "      <td>373</td>\n",
       "      <td>Boys and girls there a reason we wear hoods even when it’s sprinkling Because a tree will drop a giant drop of water right on face and it will get you all wet.</td>\n",
       "      <td>None</td>\n",
       "    </tr>\n",
       "    <tr>\n",
       "      <th>59</th>\n",
       "      <td>1443</td>\n",
       "      <td>time flies guys I was at wrestling almost 24 hrs ago. I’m not sure what happened and how all that time passed so quickly. I’m headed there again soon. I have a match soon next week. I’m nervous but also pretty excited. We’ll see how this goes. Does time ever fly by for you guys?</td>\n",
       "      <td>None</td>\n",
       "    </tr>\n",
       "    <tr>\n",
       "      <th>369</th>\n",
       "      <td>2023</td>\n",
       "      <td>Did you know? Watermelons are slightly alcoholic.\\n\\nThe rind of the fruit creates a substance that mixes with the juice of the melons, equaling the alcoholic content of 2 beers, per 1 watermelon!</td>\n",
       "      <td>None</td>\n",
       "    </tr>\n",
       "    <tr>\n",
       "      <th>229</th>\n",
       "      <td>2763</td>\n",
       "      <td>What’s karma I mean I’m not new to this site but wtf is karma like am I building up to something or what, and I see people calling each other karma whores like why do people want it so bad? Is it so they can brag about it IS THAT IT, IS THAT ALL ITS FOR. pls what am I supposed to do with karma 🤔</td>\n",
       "      <td>None</td>\n",
       "    </tr>\n",
       "    <tr>\n",
       "      <th>398</th>\n",
       "      <td>2767</td>\n",
       "      <td>Good byeI always felt like those around me really take me for granted. I can’t do it anymore. I’m not perfect but I can at least say that I’ve tried. This world is not for me. I always wanted to leave a mark before I go. \\n\\nPlease if you have someone who’s not too far gone like I am, talk to them. Be there for them. Support them. They need you more than ever. Don’t let them slip. You will regret it when they’re gone. \\n\\nThe world would be a better place if there was more love.</td>\n",
       "      <td>None</td>\n",
       "    </tr>\n",
       "    <tr>\n",
       "      <th>...</th>\n",
       "      <td>...</td>\n",
       "      <td>...</td>\n",
       "      <td>...</td>\n",
       "    </tr>\n",
       "    <tr>\n",
       "      <th>208</th>\n",
       "      <td>344366</td>\n",
       "      <td>I don't want to brag or anything... But I once was the youngest person alive</td>\n",
       "      <td>None</td>\n",
       "    </tr>\n",
       "    <tr>\n",
       "      <th>373</th>\n",
       "      <td>345699</td>\n",
       "      <td>how do u decide what you want in the future? i only think of the social/beauty aspects. i have no idea what profession i want or how to gain motivation for anything.</td>\n",
       "      <td>None</td>\n",
       "    </tr>\n",
       "    <tr>\n",
       "      <th>376</th>\n",
       "      <td>346400</td>\n",
       "      <td>I just found out that I'll get accepted into my dream high school. Rome,Italy, here i come!</td>\n",
       "      <td>None</td>\n",
       "    </tr>\n",
       "    <tr>\n",
       "      <th>337</th>\n",
       "      <td>347790</td>\n",
       "      <td>I'm making scones who wants some? If you wants some I'll tag you in my post when the scones are made :]</td>\n",
       "      <td>None</td>\n",
       "    </tr>\n",
       "    <tr>\n",
       "      <th>117</th>\n",
       "      <td>347816</td>\n",
       "      <td>i’m sober, i’m sober not i have so many tattoo ideas and now money anyway\\n\\nmmmmm can’t decide if i want to date this plug or not. do u know how much fun that would be because i don’t. lil hook up or a lil date. csnt decide</td>\n",
       "      <td>None</td>\n",
       "    </tr>\n",
       "  </tbody>\n",
       "</table>\n",
       "<p>450 rows × 3 columns</p>\n",
       "</div>"
      ],
      "text/plain": [
       "         Id  \\\n",
       "259  373      \n",
       "59   1443     \n",
       "369  2023     \n",
       "229  2763     \n",
       "398  2767     \n",
       "..    ...     \n",
       "208  344366   \n",
       "373  345699   \n",
       "376  346400   \n",
       "337  347790   \n",
       "117  347816   \n",
       "\n",
       "                                                                                                                                                                                                                                                                                                                                                                                                                                                                                                     text  \\\n",
       "259  Boys and girls there a reason we wear hoods even when it’s sprinkling Because a tree will drop a giant drop of water right on face and it will get you all wet.                                                                                                                                                                                                                                                                                                                                        \n",
       "59   time flies guys I was at wrestling almost 24 hrs ago. I’m not sure what happened and how all that time passed so quickly. I’m headed there again soon. I have a match soon next week. I’m nervous but also pretty excited. We’ll see how this goes. Does time ever fly by for you guys?                                                                                                                                                                                                                \n",
       "369  Did you know? Watermelons are slightly alcoholic.\\n\\nThe rind of the fruit creates a substance that mixes with the juice of the melons, equaling the alcoholic content of 2 beers, per 1 watermelon!                                                                                                                                                                                                                                                                                                   \n",
       "229  What’s karma I mean I’m not new to this site but wtf is karma like am I building up to something or what, and I see people calling each other karma whores like why do people want it so bad? Is it so they can brag about it IS THAT IT, IS THAT ALL ITS FOR. pls what am I supposed to do with karma 🤔                                                                                                                                                                                               \n",
       "398  Good byeI always felt like those around me really take me for granted. I can’t do it anymore. I’m not perfect but I can at least say that I’ve tried. This world is not for me. I always wanted to leave a mark before I go. \\n\\nPlease if you have someone who’s not too far gone like I am, talk to them. Be there for them. Support them. They need you more than ever. Don’t let them slip. You will regret it when they’re gone. \\n\\nThe world would be a better place if there was more love.    \n",
       "..                                                                                                                                                                                                                                                                                                                                                                                                                                                                                                    ...   \n",
       "208  I don't want to brag or anything... But I once was the youngest person alive                                                                                                                                                                                                                                                                                                                                                                                                                           \n",
       "373  how do u decide what you want in the future? i only think of the social/beauty aspects. i have no idea what profession i want or how to gain motivation for anything.                                                                                                                                                                                                                                                                                                                                  \n",
       "376  I just found out that I'll get accepted into my dream high school. Rome,Italy, here i come!                                                                                                                                                                                                                                                                                                                                                                                                            \n",
       "337  I'm making scones who wants some? If you wants some I'll tag you in my post when the scones are made :]                                                                                                                                                                                                                                                                                                                                                                                                \n",
       "117  i’m sober, i’m sober not i have so many tattoo ideas and now money anyway\\n\\nmmmmm can’t decide if i want to date this plug or not. do u know how much fun that would be because i don’t. lil hook up or a lil date. csnt decide                                                                                                                                                                                                                                                                       \n",
       "\n",
       "    label  \n",
       "259  None  \n",
       "59   None  \n",
       "369  None  \n",
       "229  None  \n",
       "398  None  \n",
       "..    ...  \n",
       "208  None  \n",
       "373  None  \n",
       "376  None  \n",
       "337  None  \n",
       "117  None  \n",
       "\n",
       "[450 rows x 3 columns]"
      ]
     },
     "execution_count": 8,
     "metadata": {},
     "output_type": "execute_result"
    }
   ],
   "source": [
    "# add the labels to your dataframe\n",
    "df['label'] = widget.new_labels\n",
    "df"
   ]
  },
  {
   "cell_type": "code",
   "execution_count": 9,
   "metadata": {
    "executionInfo": {
     "elapsed": 188,
     "status": "aborted",
     "timestamp": 1646721855735,
     "user": {
      "displayName": "Derek S. Chan",
      "photoUrl": "https://lh3.googleusercontent.com/a-/AOh14GixJU90-CHllNlCrkziZDOzGG0iNCVBs0sP5BTWXA=s64",
      "userId": "06091445000047747167"
     },
     "user_tz": 480
    },
    "id": "5N1rhWkfPqGC"
   },
   "outputs": [],
   "source": [
    "# save your labeled data to a CSV file\n",
    "df.to_csv(\"step1_data_labeled_\" + initials + dataset + \".csv\", index=False, header=True)"
   ]
  },
  {
   "cell_type": "code",
   "execution_count": 10,
   "metadata": {
    "executionInfo": {
     "elapsed": 188,
     "status": "aborted",
     "timestamp": 1646721855735,
     "user": {
      "displayName": "Derek S. Chan",
      "photoUrl": "https://lh3.googleusercontent.com/a-/AOh14GixJU90-CHllNlCrkziZDOzGG0iNCVBs0sP5BTWXA=s64",
      "userId": "06091445000047747167"
     },
     "user_tz": 480
    },
    "id": "x33j07NGPqGC"
   },
   "outputs": [
    {
     "name": "stdout",
     "output_type": "stream",
     "text": [
      "Final larger datasets withheld until class.docx\r\n",
      "Suicide_Detection (10 samples).csv\r\n",
      "Suicide_Detection_df1.csv\r\n",
      "Suicide_Detection_df2.csv\r\n",
      "Suicide_Detection_df3.csv\r\n",
      "step1_Data_X_Active_Learning.ipynb\r\n",
      "step1_data_labeled_LB2.csv\r\n",
      "step2_Data_X_Active_Learning.ipynb\r\n",
      "step3_Data_X_Active_Learning (repeat step1).ipynb\r\n",
      "step4_Data_X_Active_Learning (repeat step2).ipynb\r\n"
     ]
    }
   ],
   "source": [
    "# confirm that file saved to your directory\n",
    "!ls"
   ]
  },
  {
   "cell_type": "markdown",
   "metadata": {
    "id": "XijLrDgw81ON"
   },
   "source": [
    "### If multiple people label a given data point, you'll eventually compare your labels in the next notebook."
   ]
  },
  {
   "cell_type": "code",
   "execution_count": null,
   "metadata": {
    "executionInfo": {
     "elapsed": 188,
     "status": "aborted",
     "timestamp": 1646721855736,
     "user": {
      "displayName": "Derek S. Chan",
      "photoUrl": "https://lh3.googleusercontent.com/a-/AOh14GixJU90-CHllNlCrkziZDOzGG0iNCVBs0sP5BTWXA=s64",
      "userId": "06091445000047747167"
     },
     "user_tz": 480
    },
    "id": "NHOG7RIQPqGD"
   },
   "outputs": [],
   "source": []
  }
 ],
 "metadata": {
  "colab": {
   "collapsed_sections": [],
   "name": "step1_Data_X_Active_Learning.ipynb",
   "provenance": []
  },
  "kernelspec": {
   "display_name": "Python 3 (ipykernel)",
   "language": "python",
   "name": "python3"
  },
  "language_info": {
   "codemirror_mode": {
    "name": "ipython",
    "version": 3
   },
   "file_extension": ".py",
   "mimetype": "text/x-python",
   "name": "python",
   "nbconvert_exporter": "python",
   "pygments_lexer": "ipython3",
   "version": "3.8.6"
  },
  "toc": {
   "base_numbering": 1,
   "nav_menu": {},
   "number_sections": true,
   "sideBar": true,
   "skip_h1_title": false,
   "title_cell": "Table of Contents",
   "title_sidebar": "Contents",
   "toc_cell": false,
   "toc_position": {},
   "toc_section_display": true,
   "toc_window_display": false
  }
 },
 "nbformat": 4,
 "nbformat_minor": 1
}
