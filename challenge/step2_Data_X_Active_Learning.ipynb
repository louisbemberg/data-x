{
 "cells": [
  {
   "cell_type": "markdown",
   "metadata": {
    "id": "KEHjIw4eKdp4"
   },
   "source": [
    "### Action 1\n",
    "* Make sure your team members' labeled datasets are shared\n",
    "* Place in one local directory on your laptop\n",
    "* Specify if you labeled the same or different data as each other with a suffix 1 (Yes) or 2 (No) — first cell below\n",
    "* Then run the subsequent cells below to access the labeled datasets in the one local directory"
   ]
  },
  {
   "cell_type": "code",
   "execution_count": 1,
   "metadata": {
    "id": "Bl_FIC6kKdp6"
   },
   "outputs": [],
   "source": [
    "# specify your initials plus a suffix 1 or 2 for which dataset you labeled\n",
    "initials_1 = \"CB1\" # person 1, dataset 1\n",
    "initials_2 = \"LB2\" # person 2, dataset 1"
   ]
  },
  {
   "cell_type": "code",
   "execution_count": 2,
   "metadata": {
    "id": "CiO_dMBiS_oI"
   },
   "outputs": [],
   "source": [
    "# import modules to use their functions\n",
    "import numpy as np\n",
    "import pandas as pd\n",
    "import random\n",
    "\n",
    "# set option below so Pandas dataframe can output readable text, not truncated\n",
    "pd.set_option('display.max_colwidth', 0)"
   ]
  },
  {
   "cell_type": "code",
   "execution_count": 3,
   "metadata": {
    "id": "SVh2vyiJS_oM"
   },
   "outputs": [],
   "source": [
    "# read csv files into a dataframe\n",
    "dfraw_1 = pd.read_csv(\"step1_data_labeled_\" + initials_1 + \".csv\")\n",
    "dfraw_2 = pd.read_csv(\"step1_data_labeled_\" + initials_2 + \".csv\")\n",
    "\n",
    "dfraw_2['label'] = np.where(dfraw_2['label'] == 1, 'suicide', 'non-suicide')"
   ]
  },
  {
   "cell_type": "code",
   "execution_count": 4,
   "metadata": {
    "colab": {
     "base_uri": "https://localhost:8080/",
     "height": 323
    },
    "executionInfo": {
     "elapsed": 385,
     "status": "ok",
     "timestamp": 1634338776950,
     "user": {
      "displayName": "Kathrin Lorenz",
      "photoUrl": "https://lh3.googleusercontent.com/a/default-user=s64",
      "userId": "14586051987170592622"
     },
     "user_tz": 420
    },
    "id": "p3WK71_5KdqB",
    "outputId": "71552b86-f6ef-489b-dce0-7478e364c5ca"
   },
   "outputs": [
    {
     "data": {
      "text/html": [
       "<div>\n",
       "<style scoped>\n",
       "    .dataframe tbody tr th:only-of-type {\n",
       "        vertical-align: middle;\n",
       "    }\n",
       "\n",
       "    .dataframe tbody tr th {\n",
       "        vertical-align: top;\n",
       "    }\n",
       "\n",
       "    .dataframe thead th {\n",
       "        text-align: right;\n",
       "    }\n",
       "</style>\n",
       "<table border=\"1\" class=\"dataframe\">\n",
       "  <thead>\n",
       "    <tr style=\"text-align: right;\">\n",
       "      <th></th>\n",
       "      <th>Id</th>\n",
       "      <th>text</th>\n",
       "      <th>label</th>\n",
       "    </tr>\n",
       "  </thead>\n",
       "  <tbody>\n",
       "    <tr>\n",
       "      <th>0</th>\n",
       "      <td>662</td>\n",
       "      <td>I'm so tired and I feel like I don't even know myself.I'm so tired of the cycle of a coin flip to see if i'll be happy or miserable the next day. I self harmed today when I havent in weeks.\\n\\n I'm tired of feeling like a failure, burden, and a \"leech\" to my parents and friends. \\n\\nI'm tired of feeling like there's someone else controlling my emotions where they flip a switch from me feeling okay to miserable. I started therapy and It's only making me feel like more of a burden due to costs.\\n\\nI'm tired of my mind treating me as a bully, constant insults and telling me to kill myself.\\n\\nIm tired of having to write posts in r/suicidewatch.</td>\n",
       "      <td>suicide</td>\n",
       "    </tr>\n",
       "    <tr>\n",
       "      <th>1</th>\n",
       "      <td>713</td>\n",
       "      <td>Why does my mood gotta be changing all the time 🙄🙄🙄 😭\\n\\n😭😭\\n\\n😭😭😭\\n\\n😭😭😭😭\\n\\n😭😭😭😭😭\\n\\n😭😭😭😭😭😭\\n\\n😭😭😭😭😭😭😭\\n\\n😭😭😭😭😭😭😭😭\\n\\n😭😭😭😭😭😭😭😭😭\\n\\n😭😭😭😭😭😭😭😭😭😭\\n\\nLike 🙄 earlier i was in a good mood 😬 why do i gotta be sad now 😔✌</td>\n",
       "      <td>non-suicide</td>\n",
       "    </tr>\n",
       "    <tr>\n",
       "      <th>2</th>\n",
       "      <td>1132</td>\n",
       "      <td>1984 is when..... I get banned from Arby’s after I shoved my cock up the soda fountain while screaming racial slurs</td>\n",
       "      <td>non-suicide</td>\n",
       "    </tr>\n",
       "    <tr>\n",
       "      <th>3</th>\n",
       "      <td>1448</td>\n",
       "      <td>The only thing keeping me alive is the fact that Im scaredIm scared that it will hurt. Im scared of hanging myself because I know thats painful for at lest a little bit before youre gone. Im afraid of jumping in front of a train because what if I dont die right away and suffer until I die- and who knows how long that would take. Im afraid of jumping because im afraid of height in general and again, what if I dont die on impact. I cant shoot myself because I dont have a gun, but even then maybe Ill fuck it up and die from bleeding out or something instead dying the second the bullet hits me. I don't want to live, but I'm just too afraid to die</td>\n",
       "      <td>suicide</td>\n",
       "    </tr>\n",
       "    <tr>\n",
       "      <th>4</th>\n",
       "      <td>2078</td>\n",
       "      <td>Looks down &amp;amp;#x200B;\\n\\nhttps://preview.redd.it/g4chl7p2qem61.jpg?width=1245&amp;amp;format=pjpg&amp;amp;auto=webp&amp;amp;s=89af0ed1fa6e097e1e0f6c04462da3daeb3011a8</td>\n",
       "      <td>non-suicide</td>\n",
       "    </tr>\n",
       "  </tbody>\n",
       "</table>\n",
       "</div>"
      ],
      "text/plain": [
       "     Id  \\\n",
       "0  662    \n",
       "1  713    \n",
       "2  1132   \n",
       "3  1448   \n",
       "4  2078   \n",
       "\n",
       "                                                                                                                                                                                                                                                                                                                                                                                                                                                                                                                                                                                                                                                                         text  \\\n",
       "0  I'm so tired and I feel like I don't even know myself.I'm so tired of the cycle of a coin flip to see if i'll be happy or miserable the next day. I self harmed today when I havent in weeks.\\n\\n I'm tired of feeling like a failure, burden, and a \"leech\" to my parents and friends. \\n\\nI'm tired of feeling like there's someone else controlling my emotions where they flip a switch from me feeling okay to miserable. I started therapy and It's only making me feel like more of a burden due to costs.\\n\\nI'm tired of my mind treating me as a bully, constant insults and telling me to kill myself.\\n\\nIm tired of having to write posts in r/suicidewatch.    \n",
       "1  Why does my mood gotta be changing all the time 🙄🙄🙄 😭\\n\\n😭😭\\n\\n😭😭😭\\n\\n😭😭😭😭\\n\\n😭😭😭😭😭\\n\\n😭😭😭😭😭😭\\n\\n😭😭😭😭😭😭😭\\n\\n😭😭😭😭😭😭😭😭\\n\\n😭😭😭😭😭😭😭😭😭\\n\\n😭😭😭😭😭😭😭😭😭😭\\n\\nLike 🙄 earlier i was in a good mood 😬 why do i gotta be sad now 😔✌                                                                                                                                                                                                                                                                                                                                                                                                                                                        \n",
       "2  1984 is when..... I get banned from Arby’s after I shoved my cock up the soda fountain while screaming racial slurs                                                                                                                                                                                                                                                                                                                                                                                                                                                                                                                                                          \n",
       "3  The only thing keeping me alive is the fact that Im scaredIm scared that it will hurt. Im scared of hanging myself because I know thats painful for at lest a little bit before youre gone. Im afraid of jumping in front of a train because what if I dont die right away and suffer until I die- and who knows how long that would take. Im afraid of jumping because im afraid of height in general and again, what if I dont die on impact. I cant shoot myself because I dont have a gun, but even then maybe Ill fuck it up and die from bleeding out or something instead dying the second the bullet hits me. I don't want to live, but I'm just too afraid to die   \n",
       "4  Looks down &amp;#x200B;\\n\\nhttps://preview.redd.it/g4chl7p2qem61.jpg?width=1245&amp;format=pjpg&amp;auto=webp&amp;s=89af0ed1fa6e097e1e0f6c04462da3daeb3011a8                                                                                                                                                                                                                                                                                                                                                                                                                                                                                                                 \n",
       "\n",
       "         label  \n",
       "0  suicide      \n",
       "1  non-suicide  \n",
       "2  non-suicide  \n",
       "3  suicide      \n",
       "4  non-suicide  "
      ]
     },
     "execution_count": 4,
     "metadata": {},
     "output_type": "execute_result"
    }
   ],
   "source": [
    "dfraw_1.head()"
   ]
  },
  {
   "cell_type": "code",
   "execution_count": 5,
   "metadata": {
    "colab": {
     "base_uri": "https://localhost:8080/",
     "height": 340
    },
    "executionInfo": {
     "elapsed": 278,
     "status": "ok",
     "timestamp": 1634338783814,
     "user": {
      "displayName": "Kathrin Lorenz",
      "photoUrl": "https://lh3.googleusercontent.com/a/default-user=s64",
      "userId": "14586051987170592622"
     },
     "user_tz": 420
    },
    "id": "lL2HY1DOKdqD",
    "outputId": "84c00ebc-ae7b-4d7d-b24e-2e80812889d7"
   },
   "outputs": [
    {
     "data": {
      "text/html": [
       "<div>\n",
       "<style scoped>\n",
       "    .dataframe tbody tr th:only-of-type {\n",
       "        vertical-align: middle;\n",
       "    }\n",
       "\n",
       "    .dataframe tbody tr th {\n",
       "        vertical-align: top;\n",
       "    }\n",
       "\n",
       "    .dataframe thead th {\n",
       "        text-align: right;\n",
       "    }\n",
       "</style>\n",
       "<table border=\"1\" class=\"dataframe\">\n",
       "  <thead>\n",
       "    <tr style=\"text-align: right;\">\n",
       "      <th></th>\n",
       "      <th>Id</th>\n",
       "      <th>text</th>\n",
       "      <th>label</th>\n",
       "    </tr>\n",
       "  </thead>\n",
       "  <tbody>\n",
       "    <tr>\n",
       "      <th>0</th>\n",
       "      <td>373</td>\n",
       "      <td>Boys and girls there a reason we wear hoods even when it’s sprinkling Because a tree will drop a giant drop of water right on face and it will get you all wet.</td>\n",
       "      <td>non-suicide</td>\n",
       "    </tr>\n",
       "    <tr>\n",
       "      <th>1</th>\n",
       "      <td>1443</td>\n",
       "      <td>time flies guys I was at wrestling almost 24 hrs ago. I’m not sure what happened and how all that time passed so quickly. I’m headed there again soon. I have a match soon next week. I’m nervous but also pretty excited. We’ll see how this goes. Does time ever fly by for you guys?</td>\n",
       "      <td>non-suicide</td>\n",
       "    </tr>\n",
       "    <tr>\n",
       "      <th>2</th>\n",
       "      <td>2023</td>\n",
       "      <td>Did you know? Watermelons are slightly alcoholic.\\n\\nThe rind of the fruit creates a substance that mixes with the juice of the melons, equaling the alcoholic content of 2 beers, per 1 watermelon!</td>\n",
       "      <td>non-suicide</td>\n",
       "    </tr>\n",
       "    <tr>\n",
       "      <th>3</th>\n",
       "      <td>2763</td>\n",
       "      <td>What’s karma I mean I’m not new to this site but wtf is karma like am I building up to something or what, and I see people calling each other karma whores like why do people want it so bad? Is it so they can brag about it IS THAT IT, IS THAT ALL ITS FOR. pls what am I supposed to do with karma 🤔</td>\n",
       "      <td>non-suicide</td>\n",
       "    </tr>\n",
       "    <tr>\n",
       "      <th>4</th>\n",
       "      <td>2767</td>\n",
       "      <td>Good byeI always felt like those around me really take me for granted. I can’t do it anymore. I’m not perfect but I can at least say that I’ve tried. This world is not for me. I always wanted to leave a mark before I go. \\n\\nPlease if you have someone who’s not too far gone like I am, talk to them. Be there for them. Support them. They need you more than ever. Don’t let them slip. You will regret it when they’re gone. \\n\\nThe world would be a better place if there was more love.</td>\n",
       "      <td>non-suicide</td>\n",
       "    </tr>\n",
       "  </tbody>\n",
       "</table>\n",
       "</div>"
      ],
      "text/plain": [
       "     Id  \\\n",
       "0  373    \n",
       "1  1443   \n",
       "2  2023   \n",
       "3  2763   \n",
       "4  2767   \n",
       "\n",
       "                                                                                                                                                                                                                                                                                                                                                                                                                                                                                                   text  \\\n",
       "0  Boys and girls there a reason we wear hoods even when it’s sprinkling Because a tree will drop a giant drop of water right on face and it will get you all wet.                                                                                                                                                                                                                                                                                                                                        \n",
       "1  time flies guys I was at wrestling almost 24 hrs ago. I’m not sure what happened and how all that time passed so quickly. I’m headed there again soon. I have a match soon next week. I’m nervous but also pretty excited. We’ll see how this goes. Does time ever fly by for you guys?                                                                                                                                                                                                                \n",
       "2  Did you know? Watermelons are slightly alcoholic.\\n\\nThe rind of the fruit creates a substance that mixes with the juice of the melons, equaling the alcoholic content of 2 beers, per 1 watermelon!                                                                                                                                                                                                                                                                                                   \n",
       "3  What’s karma I mean I’m not new to this site but wtf is karma like am I building up to something or what, and I see people calling each other karma whores like why do people want it so bad? Is it so they can brag about it IS THAT IT, IS THAT ALL ITS FOR. pls what am I supposed to do with karma 🤔                                                                                                                                                                                               \n",
       "4  Good byeI always felt like those around me really take me for granted. I can’t do it anymore. I’m not perfect but I can at least say that I’ve tried. This world is not for me. I always wanted to leave a mark before I go. \\n\\nPlease if you have someone who’s not too far gone like I am, talk to them. Be there for them. Support them. They need you more than ever. Don’t let them slip. You will regret it when they’re gone. \\n\\nThe world would be a better place if there was more love.    \n",
       "\n",
       "         label  \n",
       "0  non-suicide  \n",
       "1  non-suicide  \n",
       "2  non-suicide  \n",
       "3  non-suicide  \n",
       "4  non-suicide  "
      ]
     },
     "execution_count": 5,
     "metadata": {},
     "output_type": "execute_result"
    }
   ],
   "source": [
    "dfraw_2.head()"
   ]
  },
  {
   "cell_type": "markdown",
   "metadata": {
    "id": "p2LrKdXqKdqH"
   },
   "source": [
    "## Action 2"
   ]
  },
  {
   "cell_type": "code",
   "execution_count": 6,
   "metadata": {
    "id": "tGm6HATmKdqJ",
    "outputId": "39f27c09-3b27-4927-b3a5-86e9689949d1"
   },
   "outputs": [
    {
     "name": "stdout",
     "output_type": "stream",
     "text": [
      "(500, 3)\n",
      "(450, 3)\n",
      "(950, 3)\n",
      "no\n"
     ]
    },
    {
     "data": {
      "text/html": [
       "<div>\n",
       "<style scoped>\n",
       "    .dataframe tbody tr th:only-of-type {\n",
       "        vertical-align: middle;\n",
       "    }\n",
       "\n",
       "    .dataframe tbody tr th {\n",
       "        vertical-align: top;\n",
       "    }\n",
       "\n",
       "    .dataframe thead th {\n",
       "        text-align: right;\n",
       "    }\n",
       "</style>\n",
       "<table border=\"1\" class=\"dataframe\">\n",
       "  <thead>\n",
       "    <tr style=\"text-align: right;\">\n",
       "      <th></th>\n",
       "      <th>Id</th>\n",
       "      <th>text</th>\n",
       "      <th>label</th>\n",
       "    </tr>\n",
       "  </thead>\n",
       "  <tbody>\n",
       "    <tr>\n",
       "      <th>0</th>\n",
       "      <td>662</td>\n",
       "      <td>I'm so tired and I feel like I don't even know myself.I'm so tired of the cycle of a coin flip to see if i'll be happy or miserable the next day. I self harmed today when I havent in weeks.\\n\\n I'm tired of feeling like a failure, burden, and a \"leech\" to my parents and friends. \\n\\nI'm tired of feeling like there's someone else controlling my emotions where they flip a switch from me feeling okay to miserable. I started therapy and It's only making me feel like more of a burden due to costs.\\n\\nI'm tired of my mind treating me as a bully, constant insults and telling me to kill myself.\\n\\nIm tired of having to write posts in r/suicidewatch.</td>\n",
       "      <td>suicide</td>\n",
       "    </tr>\n",
       "    <tr>\n",
       "      <th>1</th>\n",
       "      <td>713</td>\n",
       "      <td>Why does my mood gotta be changing all the time 🙄🙄🙄 😭\\n\\n😭😭\\n\\n😭😭😭\\n\\n😭😭😭😭\\n\\n😭😭😭😭😭\\n\\n😭😭😭😭😭😭\\n\\n😭😭😭😭😭😭😭\\n\\n😭😭😭😭😭😭😭😭\\n\\n😭😭😭😭😭😭😭😭😭\\n\\n😭😭😭😭😭😭😭😭😭😭\\n\\nLike 🙄 earlier i was in a good mood 😬 why do i gotta be sad now 😔✌</td>\n",
       "      <td>non-suicide</td>\n",
       "    </tr>\n",
       "    <tr>\n",
       "      <th>2</th>\n",
       "      <td>1132</td>\n",
       "      <td>1984 is when..... I get banned from Arby’s after I shoved my cock up the soda fountain while screaming racial slurs</td>\n",
       "      <td>non-suicide</td>\n",
       "    </tr>\n",
       "    <tr>\n",
       "      <th>3</th>\n",
       "      <td>1448</td>\n",
       "      <td>The only thing keeping me alive is the fact that Im scaredIm scared that it will hurt. Im scared of hanging myself because I know thats painful for at lest a little bit before youre gone. Im afraid of jumping in front of a train because what if I dont die right away and suffer until I die- and who knows how long that would take. Im afraid of jumping because im afraid of height in general and again, what if I dont die on impact. I cant shoot myself because I dont have a gun, but even then maybe Ill fuck it up and die from bleeding out or something instead dying the second the bullet hits me. I don't want to live, but I'm just too afraid to die</td>\n",
       "      <td>suicide</td>\n",
       "    </tr>\n",
       "    <tr>\n",
       "      <th>4</th>\n",
       "      <td>2078</td>\n",
       "      <td>Looks down &amp;amp;#x200B;\\n\\nhttps://preview.redd.it/g4chl7p2qem61.jpg?width=1245&amp;amp;format=pjpg&amp;amp;auto=webp&amp;amp;s=89af0ed1fa6e097e1e0f6c04462da3daeb3011a8</td>\n",
       "      <td>non-suicide</td>\n",
       "    </tr>\n",
       "    <tr>\n",
       "      <th>5</th>\n",
       "      <td>4204</td>\n",
       "      <td>Do you ever feel like this Today I saw my best friend and he talked about his summer: he said he started to smoke, drink alcohol and had sex for the first time. This really surprised me because my summer was very calm and not a lot happened. I feel disoriented and lost, almost like I’m falling behind and I’m not “growing up” like all the others and I don’t know what to do. Any advice.\\nP. S. Me and my friend are both 14.</td>\n",
       "      <td>suicide</td>\n",
       "    </tr>\n",
       "    <tr>\n",
       "      <th>6</th>\n",
       "      <td>6577</td>\n",
       "      <td>So longWell i ruined my closest friendships by my suicidal thoughts and everyone’s just given up on me and they’re saying goodbye. I guess being honest doesn’t benefit anyone, i mean i shouldve known from the start. \\n\\nAnyways i’m clocking out, the faster im gone right?</td>\n",
       "      <td>suicide</td>\n",
       "    </tr>\n",
       "    <tr>\n",
       "      <th>7</th>\n",
       "      <td>7379</td>\n",
       "      <td>its always the good shows that only have one season and then after all that waiting, the second season is absolute trash lol</td>\n",
       "      <td>non-suicide</td>\n",
       "    </tr>\n",
       "    <tr>\n",
       "      <th>8</th>\n",
       "      <td>7686</td>\n",
       "      <td>I got just a scam text It had a WhatsApp link and was in Arabic. Area code was from Kenya. And I live in the us. That doesn’t even make sense. If ur gonna scam do it right 🤦‍♂️</td>\n",
       "      <td>non-suicide</td>\n",
       "    </tr>\n",
       "    <tr>\n",
       "      <th>9</th>\n",
       "      <td>7790</td>\n",
       "      <td>What do yall think of this song? It's my favourite song [Crazy - Mushroomhead](https://youtu.be/O-gKPEdn3eQ)</td>\n",
       "      <td>non-suicide</td>\n",
       "    </tr>\n",
       "  </tbody>\n",
       "</table>\n",
       "</div>"
      ],
      "text/plain": [
       "     Id  \\\n",
       "0  662    \n",
       "1  713    \n",
       "2  1132   \n",
       "3  1448   \n",
       "4  2078   \n",
       "5  4204   \n",
       "6  6577   \n",
       "7  7379   \n",
       "8  7686   \n",
       "9  7790   \n",
       "\n",
       "                                                                                                                                                                                                                                                                                                                                                                                                                                                                                                                                                                                                                                                                         text  \\\n",
       "0  I'm so tired and I feel like I don't even know myself.I'm so tired of the cycle of a coin flip to see if i'll be happy or miserable the next day. I self harmed today when I havent in weeks.\\n\\n I'm tired of feeling like a failure, burden, and a \"leech\" to my parents and friends. \\n\\nI'm tired of feeling like there's someone else controlling my emotions where they flip a switch from me feeling okay to miserable. I started therapy and It's only making me feel like more of a burden due to costs.\\n\\nI'm tired of my mind treating me as a bully, constant insults and telling me to kill myself.\\n\\nIm tired of having to write posts in r/suicidewatch.    \n",
       "1  Why does my mood gotta be changing all the time 🙄🙄🙄 😭\\n\\n😭😭\\n\\n😭😭😭\\n\\n😭😭😭😭\\n\\n😭😭😭😭😭\\n\\n😭😭😭😭😭😭\\n\\n😭😭😭😭😭😭😭\\n\\n😭😭😭😭😭😭😭😭\\n\\n😭😭😭😭😭😭😭😭😭\\n\\n😭😭😭😭😭😭😭😭😭😭\\n\\nLike 🙄 earlier i was in a good mood 😬 why do i gotta be sad now 😔✌                                                                                                                                                                                                                                                                                                                                                                                                                                                        \n",
       "2  1984 is when..... I get banned from Arby’s after I shoved my cock up the soda fountain while screaming racial slurs                                                                                                                                                                                                                                                                                                                                                                                                                                                                                                                                                          \n",
       "3  The only thing keeping me alive is the fact that Im scaredIm scared that it will hurt. Im scared of hanging myself because I know thats painful for at lest a little bit before youre gone. Im afraid of jumping in front of a train because what if I dont die right away and suffer until I die- and who knows how long that would take. Im afraid of jumping because im afraid of height in general and again, what if I dont die on impact. I cant shoot myself because I dont have a gun, but even then maybe Ill fuck it up and die from bleeding out or something instead dying the second the bullet hits me. I don't want to live, but I'm just too afraid to die   \n",
       "4  Looks down &amp;#x200B;\\n\\nhttps://preview.redd.it/g4chl7p2qem61.jpg?width=1245&amp;format=pjpg&amp;auto=webp&amp;s=89af0ed1fa6e097e1e0f6c04462da3daeb3011a8                                                                                                                                                                                                                                                                                                                                                                                                                                                                                                                 \n",
       "5  Do you ever feel like this Today I saw my best friend and he talked about his summer: he said he started to smoke, drink alcohol and had sex for the first time. This really surprised me because my summer was very calm and not a lot happened. I feel disoriented and lost, almost like I’m falling behind and I’m not “growing up” like all the others and I don’t know what to do. Any advice.\\nP. S. Me and my friend are both 14.                                                                                                                                                                                                                                     \n",
       "6  So longWell i ruined my closest friendships by my suicidal thoughts and everyone’s just given up on me and they’re saying goodbye. I guess being honest doesn’t benefit anyone, i mean i shouldve known from the start. \\n\\nAnyways i’m clocking out, the faster im gone right?                                                                                                                                                                                                                                                                                                                                                                                              \n",
       "7  its always the good shows that only have one season and then after all that waiting, the second season is absolute trash lol                                                                                                                                                                                                                                                                                                                                                                                                                                                                                                                                                 \n",
       "8  I got just a scam text It had a WhatsApp link and was in Arabic. Area code was from Kenya. And I live in the us. That doesn’t even make sense. If ur gonna scam do it right 🤦‍♂️                                                                                                                                                                                                                                                                                                                                                                                                                                                                                             \n",
       "9  What do yall think of this song? It's my favourite song [Crazy - Mushroomhead](https://youtu.be/O-gKPEdn3eQ)                                                                                                                                                                                                                                                                                                                                                                                                                                                                                                                                                                 \n",
       "\n",
       "         label  \n",
       "0  suicide      \n",
       "1  non-suicide  \n",
       "2  non-suicide  \n",
       "3  suicide      \n",
       "4  non-suicide  \n",
       "5  suicide      \n",
       "6  suicide      \n",
       "7  non-suicide  \n",
       "8  non-suicide  \n",
       "9  non-suicide  "
      ]
     },
     "metadata": {},
     "output_type": "display_data"
    }
   ],
   "source": [
    "# If multiple people labeled the SAME data points, run below. Else see the subsequent ACTION 2b.\n",
    "if initials_1[-1:] == initials_2[-1:]:\n",
    "\n",
    "    # save copies of the columns for comparison\n",
    "    dfraw_1[\"label_1\"] = dfraw_1[\"label\"].copy()\n",
    "    dfraw_2[\"label_2\"] = dfraw_2[\"label\"].copy()\n",
    "\n",
    "    # drop a column before merge\n",
    "    dfraw_1 = dfraw_1.drop(columns=[\"label\"])\n",
    "    dfraw_2 = dfraw_2.drop(columns=[\"label\"])\n",
    "\n",
    "    # merge the two datasets\n",
    "    df = pd.merge(dfraw_1, dfraw_2, how=\"outer\", on=[\"Id\", \"text\"])\n",
    "    df = df.sort_values(\"Id\")\n",
    "    \n",
    "    df['label'] = np.where(df['label_1']==df[\"label_2\"], df[\"label_1\"], \"\")\n",
    "\n",
    "    # check number of rows and columns\n",
    "    print(df.shape)\n",
    "\n",
    "    # drop rows that have missing values for label\n",
    "    df3 = df.dropna(axis=0, subset=['label'])\n",
    "    \n",
    "    # to simplify, delete disagreements\n",
    "    df3 = df3[df3[\"label\"]!=\"\"]\n",
    "    \n",
    "    print(\"yes\")\n",
    "    display(df3.head(n=10))\n",
    "\n",
    "# If multiple people labeled DIFFERENT data points, run below to concatenate your labeled datasets vertically\n",
    "elif initials_1[-1:] != initials_2[-1:]:\n",
    "    \n",
    "    df3 = pd.concat([dfraw_1, dfraw_2])\n",
    "\n",
    "    print(dfraw_1.shape)\n",
    "    print(dfraw_2.shape)\n",
    "    print(df3.shape)\n",
    "    \n",
    "    print(\"no\")\n",
    "    display(df3.head(n=10))"
   ]
  },
  {
   "cell_type": "markdown",
   "metadata": {
    "id": "qHB168r-KdqT"
   },
   "source": [
    "### Action 3\n",
    "Simply run the steps below, which creates a baseline model on your labeled dataframe, df4"
   ]
  },
  {
   "cell_type": "code",
   "execution_count": 7,
   "metadata": {
    "colab": {
     "base_uri": "https://localhost:8080/",
     "height": 49
    },
    "executionInfo": {
     "elapsed": 519,
     "status": "ok",
     "timestamp": 1634338851133,
     "user": {
      "displayName": "Kathrin Lorenz",
      "photoUrl": "https://lh3.googleusercontent.com/a/default-user=s64",
      "userId": "14586051987170592622"
     },
     "user_tz": 420
    },
    "id": "joDw14NqKdqd",
    "outputId": "1de2f123-715d-4a06-aba5-5c1e5ec64e3e"
   },
   "outputs": [
    {
     "data": {
      "text/html": [
       "<div>\n",
       "<style scoped>\n",
       "    .dataframe tbody tr th:only-of-type {\n",
       "        vertical-align: middle;\n",
       "    }\n",
       "\n",
       "    .dataframe tbody tr th {\n",
       "        vertical-align: top;\n",
       "    }\n",
       "\n",
       "    .dataframe thead th {\n",
       "        text-align: right;\n",
       "    }\n",
       "</style>\n",
       "<table border=\"1\" class=\"dataframe\">\n",
       "  <thead>\n",
       "    <tr style=\"text-align: right;\">\n",
       "      <th></th>\n",
       "      <th>Id</th>\n",
       "      <th>text</th>\n",
       "      <th>label</th>\n",
       "    </tr>\n",
       "  </thead>\n",
       "  <tbody>\n",
       "  </tbody>\n",
       "</table>\n",
       "</div>"
      ],
      "text/plain": [
       "Empty DataFrame\n",
       "Columns: [Id, text, label]\n",
       "Index: []"
      ]
     },
     "execution_count": 7,
     "metadata": {},
     "output_type": "execute_result"
    }
   ],
   "source": [
    "df4 = df3.copy()\n",
    "# drop rows that have missing values for label\n",
    "df4 = df4.dropna(axis=0, subset=['label'])\n",
    "df4[df4[\"label\"]==\"\"].head()"
   ]
  },
  {
   "cell_type": "code",
   "execution_count": 8,
   "metadata": {
    "colab": {
     "base_uri": "https://localhost:8080/",
     "height": 340
    },
    "executionInfo": {
     "elapsed": 44,
     "status": "ok",
     "timestamp": 1634338852458,
     "user": {
      "displayName": "Kathrin Lorenz",
      "photoUrl": "https://lh3.googleusercontent.com/a/default-user=s64",
      "userId": "14586051987170592622"
     },
     "user_tz": 420
    },
    "id": "8Cg7pLP6Kdqf",
    "outputId": "212ba784-9324-4f58-feef-c8024252aff9"
   },
   "outputs": [
    {
     "data": {
      "text/html": [
       "<div>\n",
       "<style scoped>\n",
       "    .dataframe tbody tr th:only-of-type {\n",
       "        vertical-align: middle;\n",
       "    }\n",
       "\n",
       "    .dataframe tbody tr th {\n",
       "        vertical-align: top;\n",
       "    }\n",
       "\n",
       "    .dataframe thead th {\n",
       "        text-align: right;\n",
       "    }\n",
       "</style>\n",
       "<table border=\"1\" class=\"dataframe\">\n",
       "  <thead>\n",
       "    <tr style=\"text-align: right;\">\n",
       "      <th></th>\n",
       "      <th>Id</th>\n",
       "      <th>text</th>\n",
       "      <th>label</th>\n",
       "    </tr>\n",
       "  </thead>\n",
       "  <tbody>\n",
       "    <tr>\n",
       "      <th>0</th>\n",
       "      <td>662</td>\n",
       "      <td>I'm so tired and I feel like I don't even know myself.I'm so tired of the cycle of a coin flip to see if i'll be happy or miserable the next day. I self harmed today when I havent in weeks.\\n\\n I'm tired of feeling like a failure, burden, and a \"leech\" to my parents and friends. \\n\\nI'm tired of feeling like there's someone else controlling my emotions where they flip a switch from me feeling okay to miserable. I started therapy and It's only making me feel like more of a burden due to costs.\\n\\nI'm tired of my mind treating me as a bully, constant insults and telling me to kill myself.\\n\\nIm tired of having to write posts in r/suicidewatch.</td>\n",
       "      <td>suicide</td>\n",
       "    </tr>\n",
       "    <tr>\n",
       "      <th>1</th>\n",
       "      <td>713</td>\n",
       "      <td>Why does my mood gotta be changing all the time 🙄🙄🙄 😭\\n\\n😭😭\\n\\n😭😭😭\\n\\n😭😭😭😭\\n\\n😭😭😭😭😭\\n\\n😭😭😭😭😭😭\\n\\n😭😭😭😭😭😭😭\\n\\n😭😭😭😭😭😭😭😭\\n\\n😭😭😭😭😭😭😭😭😭\\n\\n😭😭😭😭😭😭😭😭😭😭\\n\\nLike 🙄 earlier i was in a good mood 😬 why do i gotta be sad now 😔✌</td>\n",
       "      <td>non-suicide</td>\n",
       "    </tr>\n",
       "    <tr>\n",
       "      <th>2</th>\n",
       "      <td>1132</td>\n",
       "      <td>1984 is when..... I get banned from Arby’s after I shoved my cock up the soda fountain while screaming racial slurs</td>\n",
       "      <td>non-suicide</td>\n",
       "    </tr>\n",
       "    <tr>\n",
       "      <th>3</th>\n",
       "      <td>1448</td>\n",
       "      <td>The only thing keeping me alive is the fact that Im scaredIm scared that it will hurt. Im scared of hanging myself because I know thats painful for at lest a little bit before youre gone. Im afraid of jumping in front of a train because what if I dont die right away and suffer until I die- and who knows how long that would take. Im afraid of jumping because im afraid of height in general and again, what if I dont die on impact. I cant shoot myself because I dont have a gun, but even then maybe Ill fuck it up and die from bleeding out or something instead dying the second the bullet hits me. I don't want to live, but I'm just too afraid to die</td>\n",
       "      <td>suicide</td>\n",
       "    </tr>\n",
       "    <tr>\n",
       "      <th>4</th>\n",
       "      <td>2078</td>\n",
       "      <td>Looks down &amp;amp;#x200B;\\n\\nhttps://preview.redd.it/g4chl7p2qem61.jpg?width=1245&amp;amp;format=pjpg&amp;amp;auto=webp&amp;amp;s=89af0ed1fa6e097e1e0f6c04462da3daeb3011a8</td>\n",
       "      <td>non-suicide</td>\n",
       "    </tr>\n",
       "  </tbody>\n",
       "</table>\n",
       "</div>"
      ],
      "text/plain": [
       "     Id  \\\n",
       "0  662    \n",
       "1  713    \n",
       "2  1132   \n",
       "3  1448   \n",
       "4  2078   \n",
       "\n",
       "                                                                                                                                                                                                                                                                                                                                                                                                                                                                                                                                                                                                                                                                         text  \\\n",
       "0  I'm so tired and I feel like I don't even know myself.I'm so tired of the cycle of a coin flip to see if i'll be happy or miserable the next day. I self harmed today when I havent in weeks.\\n\\n I'm tired of feeling like a failure, burden, and a \"leech\" to my parents and friends. \\n\\nI'm tired of feeling like there's someone else controlling my emotions where they flip a switch from me feeling okay to miserable. I started therapy and It's only making me feel like more of a burden due to costs.\\n\\nI'm tired of my mind treating me as a bully, constant insults and telling me to kill myself.\\n\\nIm tired of having to write posts in r/suicidewatch.    \n",
       "1  Why does my mood gotta be changing all the time 🙄🙄🙄 😭\\n\\n😭😭\\n\\n😭😭😭\\n\\n😭😭😭😭\\n\\n😭😭😭😭😭\\n\\n😭😭😭😭😭😭\\n\\n😭😭😭😭😭😭😭\\n\\n😭😭😭😭😭😭😭😭\\n\\n😭😭😭😭😭😭😭😭😭\\n\\n😭😭😭😭😭😭😭😭😭😭\\n\\nLike 🙄 earlier i was in a good mood 😬 why do i gotta be sad now 😔✌                                                                                                                                                                                                                                                                                                                                                                                                                                                        \n",
       "2  1984 is when..... I get banned from Arby’s after I shoved my cock up the soda fountain while screaming racial slurs                                                                                                                                                                                                                                                                                                                                                                                                                                                                                                                                                          \n",
       "3  The only thing keeping me alive is the fact that Im scaredIm scared that it will hurt. Im scared of hanging myself because I know thats painful for at lest a little bit before youre gone. Im afraid of jumping in front of a train because what if I dont die right away and suffer until I die- and who knows how long that would take. Im afraid of jumping because im afraid of height in general and again, what if I dont die on impact. I cant shoot myself because I dont have a gun, but even then maybe Ill fuck it up and die from bleeding out or something instead dying the second the bullet hits me. I don't want to live, but I'm just too afraid to die   \n",
       "4  Looks down &amp;#x200B;\\n\\nhttps://preview.redd.it/g4chl7p2qem61.jpg?width=1245&amp;format=pjpg&amp;auto=webp&amp;s=89af0ed1fa6e097e1e0f6c04462da3daeb3011a8                                                                                                                                                                                                                                                                                                                                                                                                                                                                                                                 \n",
       "\n",
       "         label  \n",
       "0  suicide      \n",
       "1  non-suicide  \n",
       "2  non-suicide  \n",
       "3  suicide      \n",
       "4  non-suicide  "
      ]
     },
     "execution_count": 8,
     "metadata": {},
     "output_type": "execute_result"
    }
   ],
   "source": [
    "df4.head()"
   ]
  },
  {
   "cell_type": "code",
   "execution_count": 9,
   "metadata": {
    "id": "T4k3glIfS_oP"
   },
   "outputs": [],
   "source": [
    "#!pip install install -U scikit-learn\n",
    "#!pip install scipy"
   ]
  },
  {
   "cell_type": "code",
   "execution_count": 10,
   "metadata": {
    "id": "yJJXARVTS_oQ"
   },
   "outputs": [],
   "source": [
    "# import additioanl modules\n",
    "from sklearn.linear_model import LogisticRegression\n",
    "from sklearn.feature_extraction.text import CountVectorizer, TfidfVectorizer\n",
    "from sklearn.metrics import log_loss, accuracy_score, roc_auc_score, roc_curve, auc, precision_score, recall_score, f1_score, classification_report, confusion_matrix\n",
    "from sklearn.model_selection import KFold"
   ]
  },
  {
   "cell_type": "code",
   "execution_count": 11,
   "metadata": {
    "id": "j6Oyh4-wS_oV"
   },
   "outputs": [],
   "source": [
    "# write variation of code, but remove ending s (make plural words singular)\n",
    "# http://stackoverflow.com/questions/3675318/how-to-replace-the-some-characters-from-the-end-of-a-string\n",
    "\n",
    "import re\n",
    "\n",
    "def replace_ending_s(orig_string):\n",
    "    head, sep, tail = orig_string.rpartition(\"s\")\n",
    "    if orig_string[len(orig_string)-1] in (\"s\"):\n",
    "        return head\n",
    "    else:\n",
    "        return orig_string\n",
    "    \n",
    "def first_preprocessor(s):\n",
    "    #convert to lowercase (which default of vectorizers do)\n",
    "    s = s.lower()\n",
    "    \n",
    "    # remove select punctation\n",
    "    s = re.sub(\"[,.!?:;/~*]\", \" \", s)\n",
    "    \n",
    "    # remove _ as the end of word\n",
    "    s = re.sub(\"[_]+\", \" \", s)\n",
    "    \n",
    "    # remove _ as start of the word\n",
    "    s = re.sub(\"\\s[_]+\", \" \", s)\n",
    "\n",
    "    # replace multiple consecutive blank spaces with 1 blank space\n",
    "    s = re.sub(\"[ ]+\", \" \", s)\n",
    "\n",
    "    return s"
   ]
  },
  {
   "cell_type": "code",
   "execution_count": 12,
   "metadata": {
    "colab": {
     "base_uri": "https://localhost:8080/"
    },
    "executionInfo": {
     "elapsed": 52,
     "status": "ok",
     "timestamp": 1634338858336,
     "user": {
      "displayName": "Kathrin Lorenz",
      "photoUrl": "https://lh3.googleusercontent.com/a/default-user=s64",
      "userId": "14586051987170592622"
     },
     "user_tz": 420
    },
    "id": "2O4QVXh-S_oW",
    "outputId": "7ebc5306-d57b-4891-d1eb-1c82a19c9a14"
   },
   "outputs": [
    {
     "data": {
      "text/plain": [
       "LogisticRegression(class_weight='balanced', random_state=0)"
      ]
     },
     "execution_count": 12,
     "metadata": {},
     "output_type": "execute_result"
    }
   ],
   "source": [
    "vectorizer = TfidfVectorizer()\n",
    "vectors = vectorizer.fit_transform(df4[\"text\"])\n",
    "\n",
    "# class_weight uses weights, so each class has the same importance rather than the proportion\n",
    "# of labels in the data rather than specifying λ, you specify C=1/λ.\n",
    "model = LogisticRegression(class_weight=\"balanced\", random_state=0)\n",
    "model.fit(vectors, df4[\"label\"]) # data the regression uses for the coefficients to find the model\n",
    "\n",
    "#p = model.predict_proba(vectors)[:,1]\n",
    "#roc_auc_score(df4['label_0'], p)"
   ]
  },
  {
   "cell_type": "markdown",
   "metadata": {
    "id": "q_W4KTWmKdqq"
   },
   "source": [
    "### Action 4\n",
    "Run baseline model on unlabeled dataframe, df5"
   ]
  },
  {
   "cell_type": "code",
   "execution_count": 13,
   "metadata": {
    "colab": {
     "base_uri": "https://localhost:8080/",
     "height": 391
    },
    "executionInfo": {
     "elapsed": 181,
     "status": "ok",
     "timestamp": 1634338863047,
     "user": {
      "displayName": "Kathrin Lorenz",
      "photoUrl": "https://lh3.googleusercontent.com/a/default-user=s64",
      "userId": "14586051987170592622"
     },
     "user_tz": 420
    },
    "id": "ULD04QT0Kdqr",
    "outputId": "ed6b9483-25f5-4ed7-83c0-7ab36c7fe2e5"
   },
   "outputs": [
    {
     "name": "stdout",
     "output_type": "stream",
     "text": [
      "# before drop duplicates: 450\n",
      "# after drop duplicates: 450\n"
     ]
    },
    {
     "data": {
      "text/html": [
       "<div>\n",
       "<style scoped>\n",
       "    .dataframe tbody tr th:only-of-type {\n",
       "        vertical-align: middle;\n",
       "    }\n",
       "\n",
       "    .dataframe tbody tr th {\n",
       "        vertical-align: top;\n",
       "    }\n",
       "\n",
       "    .dataframe thead th {\n",
       "        text-align: right;\n",
       "    }\n",
       "</style>\n",
       "<table border=\"1\" class=\"dataframe\">\n",
       "  <thead>\n",
       "    <tr style=\"text-align: right;\">\n",
       "      <th></th>\n",
       "      <th>Id</th>\n",
       "      <th>text</th>\n",
       "      <th>label</th>\n",
       "      <th>prob</th>\n",
       "    </tr>\n",
       "  </thead>\n",
       "  <tbody>\n",
       "    <tr>\n",
       "      <th>0</th>\n",
       "      <td>343887</td>\n",
       "      <td>Banned on the discord All I did was post a meme in general by accident 😔</td>\n",
       "      <td>NaN</td>\n",
       "      <td>0.205485</td>\n",
       "    </tr>\n",
       "    <tr>\n",
       "      <th>1</th>\n",
       "      <td>39533</td>\n",
       "      <td>I let my mom write something in this sub she saved it as a draft I am proud of her Hi teenagers I hope all of you are happy now that school is opening up I hope each of you have good semester or year in these dark times we need to stay strong and stay inside also if you go out please don't forget to wear a mask also for those who work in minimum wage and have to deal with woman screaming at you for calling manager just tell her to get out if she doesn't like the place I hate those type of woman also if you see that she doesn't have a mask on tell her to get out she is risking health of many people Covid-19 is not a joke wear a mask at all cost</td>\n",
       "      <td>NaN</td>\n",
       "      <td>0.153079</td>\n",
       "    </tr>\n",
       "    <tr>\n",
       "      <th>2</th>\n",
       "      <td>162175</td>\n",
       "      <td>QuestionCan I show up on a hospital and ask to get help if I deal with suicidal thoughts or depressioN? Im not really informed and I dont want to look bad..</td>\n",
       "      <td>NaN</td>\n",
       "      <td>0.266386</td>\n",
       "    </tr>\n",
       "    <tr>\n",
       "      <th>3</th>\n",
       "      <td>328105</td>\n",
       "      <td>how do i get my friends away from tiktok preferably to reddit theyre doing shitty pranks on me and recording me without my permission etc pls help thank</td>\n",
       "      <td>NaN</td>\n",
       "      <td>0.232985</td>\n",
       "    </tr>\n",
       "    <tr>\n",
       "      <th>4</th>\n",
       "      <td>237778</td>\n",
       "      <td>God is hunting me for sport and the clap of my massive cock is making it easier for him. ^filler ^filler ^filler ^filler ^filler ^filler ^filler</td>\n",
       "      <td>NaN</td>\n",
       "      <td>0.125762</td>\n",
       "    </tr>\n",
       "  </tbody>\n",
       "</table>\n",
       "</div>"
      ],
      "text/plain": [
       "       Id  \\\n",
       "0  343887   \n",
       "1  39533    \n",
       "2  162175   \n",
       "3  328105   \n",
       "4  237778   \n",
       "\n",
       "                                                                                                                                                                                                                                                                                                                                                                                                                                                                                                                                                                                                                                                                          text  \\\n",
       "0  Banned on the discord All I did was post a meme in general by accident 😔                                                                                                                                                                                                                                                                                                                                                                                                                                                                                                                                                                                                      \n",
       "1  I let my mom write something in this sub she saved it as a draft I am proud of her Hi teenagers I hope all of you are happy now that school is opening up I hope each of you have good semester or year in these dark times we need to stay strong and stay inside also if you go out please don't forget to wear a mask also for those who work in minimum wage and have to deal with woman screaming at you for calling manager just tell her to get out if she doesn't like the place I hate those type of woman also if you see that she doesn't have a mask on tell her to get out she is risking health of many people Covid-19 is not a joke wear a mask at all cost   \n",
       "2  QuestionCan I show up on a hospital and ask to get help if I deal with suicidal thoughts or depressioN? Im not really informed and I dont want to look bad..                                                                                                                                                                                                                                                                                                                                                                                                                                                                                                                  \n",
       "3  how do i get my friends away from tiktok preferably to reddit theyre doing shitty pranks on me and recording me without my permission etc pls help thank                                                                                                                                                                                                                                                                                                                                                                                                                                                                                                                      \n",
       "4  God is hunting me for sport and the clap of my massive cock is making it easier for him. ^filler ^filler ^filler ^filler ^filler ^filler ^filler                                                                                                                                                                                                                                                                                                                                                                                                                                                                                                                              \n",
       "\n",
       "   label      prob  \n",
       "0 NaN     0.205485  \n",
       "1 NaN     0.153079  \n",
       "2 NaN     0.266386  \n",
       "3 NaN     0.232985  \n",
       "4 NaN     0.125762  "
      ]
     },
     "execution_count": 13,
     "metadata": {},
     "output_type": "execute_result"
    }
   ],
   "source": [
    "df5 = pd.read_csv(\"Suicide_Detection_df2.csv\")\n",
    "\n",
    "vectors2 = vectorizer.transform(df5['text'])\n",
    "df5['prob'] = model.predict_proba(vectors2)[:,1]\n",
    "\n",
    "print(\"# before drop duplicates:\", len(df5))\n",
    "df5 = df5.drop_duplicates(subset=[\"text\"], keep =\"last\")\n",
    "print(\"# after drop duplicates:\", len(df5))    \n",
    "\n",
    "df5.head()"
   ]
  },
  {
   "cell_type": "markdown",
   "metadata": {
    "id": "ptSMXh-dKdqs"
   },
   "source": [
    "### Action 5a\n",
    "Evaluate graph distribution of model's predicted probabilities that text indicates suicide"
   ]
  },
  {
   "cell_type": "code",
   "execution_count": 14,
   "metadata": {
    "colab": {
     "base_uri": "https://localhost:8080/",
     "height": 298
    },
    "executionInfo": {
     "elapsed": 581,
     "status": "ok",
     "timestamp": 1634338868684,
     "user": {
      "displayName": "Kathrin Lorenz",
      "photoUrl": "https://lh3.googleusercontent.com/a/default-user=s64",
      "userId": "14586051987170592622"
     },
     "user_tz": 420
    },
    "id": "M-eUbc5pS_oY",
    "outputId": "87045e25-c2f9-4e91-a5fc-1bee516960f7"
   },
   "outputs": [
    {
     "name": "stdout",
     "output_type": "stream",
     "text": [
      "Distribution of data points by probability:\n"
     ]
    },
    {
     "data": {
      "image/png": "[encoded data removed]",
      "text/plain": [
       "<Figure size 432x288 with 1 Axes>"
      ]
     },
     "metadata": {
      "needs_background": "light"
     },
     "output_type": "display_data"
    }
   ],
   "source": [
    "def show_counts_by_probability_buckets(df):\n",
    "    #print(\"Count of data points by buckets of probability:\")\n",
    "    for i in range(0,10):\n",
    "        low_mark = i * 1.0 / 10;\n",
    "        high_mark = (i + 1) * 1.0 / 10;\n",
    "        count = sum((low_mark <= df['prob']) & (df['prob'] < high_mark))\n",
    "        #print(\"[\", low_mark, \", \", high_mark, \") = \", count)\n",
    "\n",
    "    print(\"Distribution of data points by probability:\")\n",
    "    pd.DataFrame.hist(df, column='prob')\n",
    "    \n",
    "# view distribution of data points by probability for dataframe, df2\n",
    "show_counts_by_probability_buckets(df5)"
   ]
  },
  {
   "cell_type": "markdown",
   "metadata": {
    "id": "1IexACYBKdqu"
   },
   "source": [
    "### Action 5b\n",
    "With the graph above, which data points will you label strategically?\n",
    "\n",
    "Decisions:\n",
    "* Where is your model most unsure, based on its predicted probabilities?\n",
    "* Between which confidence thresholds do you prefer to label your next data points? Update the numeric values in cell below, as needed."
   ]
  },
  {
   "cell_type": "code",
   "execution_count": 15,
   "metadata": {
    "id": "p_OuWAX2Kdqu"
   },
   "outputs": [],
   "source": [
    "threshold_lower = 0.215\n",
    "threshold_upper = 0.215"
   ]
  },
  {
   "cell_type": "markdown",
   "metadata": {
    "id": "sXtHruR5Kdqv"
   },
   "source": [
    "### Action 6\n",
    "Run code to output the data points to a \"step2\" csv file that you'll label in the next notebook"
   ]
  },
  {
   "cell_type": "code",
   "execution_count": 16,
   "metadata": {
    "id": "EOC2Uy2tKdqw"
   },
   "outputs": [],
   "source": [
    "df5[(df5['prob'] >= threshold_lower) & \n",
    "    (df5['prob'] <= threshold_upper)].to_csv(\"step2_data_unlabeled.csv\", \n",
    "                                             index=False, header=True)"
   ]
  },
  {
   "cell_type": "markdown",
   "metadata": {
    "id": "lKzXiMXDKdqx"
   },
   "source": [
    "### Action 7\n",
    "* Run your model on the dataset below\n",
    "* Sign up with your berkeley.edu account at https://www.kaggle.com/t/aa189eaae62b4c0e80858b838930f684. \n",
    "* Then submit your 1st round csv to Kaggle in-class leaderboard, https://www.kaggle.com/c/data-x-active-learning-spring-2022/leaderboard. "
   ]
  },
  {
   "cell_type": "code",
   "execution_count": 17,
   "metadata": {
    "colab": {
     "base_uri": "https://localhost:8080/",
     "height": 238
    },
    "executionInfo": {
     "elapsed": 925,
     "status": "ok",
     "timestamp": 1634338884979,
     "user": {
      "displayName": "Kathrin Lorenz",
      "photoUrl": "https://lh3.googleusercontent.com/a/default-user=s64",
      "userId": "14586051987170592622"
     },
     "user_tz": 420
    },
    "id": "GiNPaHAYKdqy",
    "outputId": "92d22941-88df-4cfd-b68c-4baea2ea0f69"
   },
   "outputs": [
    {
     "name": "stdout",
     "output_type": "stream",
     "text": [
      "# before drop duplicates: 4550\n",
      "# after drop duplicates: 4550\n"
     ]
    },
    {
     "data": {
      "text/html": [
       "<div>\n",
       "<style scoped>\n",
       "    .dataframe tbody tr th:only-of-type {\n",
       "        vertical-align: middle;\n",
       "    }\n",
       "\n",
       "    .dataframe tbody tr th {\n",
       "        vertical-align: top;\n",
       "    }\n",
       "\n",
       "    .dataframe thead th {\n",
       "        text-align: right;\n",
       "    }\n",
       "</style>\n",
       "<table border=\"1\" class=\"dataframe\">\n",
       "  <thead>\n",
       "    <tr style=\"text-align: right;\">\n",
       "      <th></th>\n",
       "      <th>Id</th>\n",
       "      <th>label</th>\n",
       "    </tr>\n",
       "  </thead>\n",
       "  <tbody>\n",
       "    <tr>\n",
       "      <th>1099</th>\n",
       "      <td>37</td>\n",
       "      <td>0.273204</td>\n",
       "    </tr>\n",
       "    <tr>\n",
       "      <th>1435</th>\n",
       "      <td>40</td>\n",
       "      <td>0.115110</td>\n",
       "    </tr>\n",
       "    <tr>\n",
       "      <th>4504</th>\n",
       "      <td>96</td>\n",
       "      <td>0.111282</td>\n",
       "    </tr>\n",
       "    <tr>\n",
       "      <th>3230</th>\n",
       "      <td>140</td>\n",
       "      <td>0.110015</td>\n",
       "    </tr>\n",
       "    <tr>\n",
       "      <th>609</th>\n",
       "      <td>200</td>\n",
       "      <td>0.157674</td>\n",
       "    </tr>\n",
       "  </tbody>\n",
       "</table>\n",
       "</div>"
      ],
      "text/plain": [
       "       Id     label\n",
       "1099  37   0.273204\n",
       "1435  40   0.115110\n",
       "4504  96   0.111282\n",
       "3230  140  0.110015\n",
       "609   200  0.157674"
      ]
     },
     "execution_count": 17,
     "metadata": {},
     "output_type": "execute_result"
    }
   ],
   "source": [
    "df5 = pd.read_csv(\"Suicide_Detection_df3.csv\")\n",
    "\n",
    "vectors2 = vectorizer.transform(df5['text'])\n",
    "df5['prob'] = model.predict_proba(vectors2)[:,1]\n",
    "#df5[\"label\"] = [-1 for i in range(0, len(df5))]\n",
    "#df5.set_index(\"key\", inplace=True)\n",
    "\n",
    "print(\"# before drop duplicates:\", len(df5))\n",
    "df5 = df5.drop_duplicates(subset=[\"text\"], keep =\"last\")\n",
    "print(\"# after drop duplicates:\", len(df5))    \n",
    "\n",
    "# keep two columns, and rename the prob(abiity) column\n",
    "df6 = df5[[\"Id\", \"prob\"]].rename(columns={\"prob\":\"label\"})\n",
    "\n",
    "# sort values by Id\n",
    "df6 = df6.sort_values(by=['Id'])\n",
    "\n",
    "# save results to csv\n",
    "df6.to_csv(\"test.csv\", index=False,header=True)\n",
    "\n",
    "# print a reflection of what you will submit\n",
    "df6.head()"
   ]
  },
  {
   "cell_type": "code",
   "execution_count": null,
   "metadata": {
    "id": "NHp4DcQYhNgR"
   },
   "outputs": [],
   "source": []
  },
  {
   "cell_type": "code",
   "execution_count": null,
   "metadata": {},
   "outputs": [],
   "source": []
  },
  {
   "cell_type": "code",
   "execution_count": null,
   "metadata": {},
   "outputs": [],
   "source": []
  }
 ],
 "metadata": {
  "colab": {
   "collapsed_sections": [],
   "name": "step2_Data_X_Active_Learning.ipynb",
   "provenance": []
  },
  "kernelspec": {
   "display_name": "Python 3 (ipykernel)",
   "language": "python",
   "name": "python3"
  },
  "language_info": {
   "codemirror_mode": {
    "name": "ipython",
    "version": 3
   },
   "file_extension": ".py",
   "mimetype": "text/x-python",
   "name": "python",
   "nbconvert_exporter": "python",
   "pygments_lexer": "ipython3",
   "version": "3.8.6"
  },
  "toc": {
   "base_numbering": 1,
   "nav_menu": {},
   "number_sections": true,
   "sideBar": true,
   "skip_h1_title": false,
   "title_cell": "Table of Contents",
   "title_sidebar": "Contents",
   "toc_cell": false,
   "toc_position": {},
   "toc_section_display": true,
   "toc_window_display": false
  }
 },
 "nbformat": 4,
 "nbformat_minor": 1
}
